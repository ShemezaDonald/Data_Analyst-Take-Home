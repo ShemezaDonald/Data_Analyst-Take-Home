{
 "cells": [
  {
   "cell_type": "markdown",
   "id": "d2ff280c",
   "metadata": {},
   "source": [
    "# Importing libraries"
   ]
  },
  {
   "cell_type": "code",
   "execution_count": 1,
   "id": "48a739d6",
   "metadata": {},
   "outputs": [],
   "source": [
    "import pandas as pd \n",
    "import numpy as np\n",
    "from datetime import datetime\n",
    "import seaborn as sns\n",
    "import matplotlib.pyplot as plt\n"
   ]
  },
  {
   "cell_type": "markdown",
   "id": "f0d2d794",
   "metadata": {},
   "source": [
    "# Exploratory Data Analysis(EDA)"
   ]
  },
  {
   "cell_type": "code",
   "execution_count": 2,
   "id": "95a429a7",
   "metadata": {},
   "outputs": [],
   "source": [
    "#reading all data \n",
    "user_data = pd.read_csv('USER_TAKEHOME.csv')\n",
    "trans_data = pd.read_csv('TRANSACTION_TAKEHOME.csv')\n",
    "prod_data = pd.read_csv('PRODUCTS_TAKEHOME.csv')"
   ]
  },
  {
   "cell_type": "markdown",
   "id": "762da711",
   "metadata": {},
   "source": [
    "## 1. Users Dataset"
   ]
  },
  {
   "cell_type": "code",
   "execution_count": 3,
   "id": "d10e4e74",
   "metadata": {},
   "outputs": [
    {
     "data": {
      "text/html": [
       "<div>\n",
       "<style scoped>\n",
       "    .dataframe tbody tr th:only-of-type {\n",
       "        vertical-align: middle;\n",
       "    }\n",
       "\n",
       "    .dataframe tbody tr th {\n",
       "        vertical-align: top;\n",
       "    }\n",
       "\n",
       "    .dataframe thead th {\n",
       "        text-align: right;\n",
       "    }\n",
       "</style>\n",
       "<table border=\"1\" class=\"dataframe\">\n",
       "  <thead>\n",
       "    <tr style=\"text-align: right;\">\n",
       "      <th></th>\n",
       "      <th>ID</th>\n",
       "      <th>CREATED_DATE</th>\n",
       "      <th>BIRTH_DATE</th>\n",
       "      <th>STATE</th>\n",
       "      <th>LANGUAGE</th>\n",
       "      <th>GENDER</th>\n",
       "    </tr>\n",
       "  </thead>\n",
       "  <tbody>\n",
       "    <tr>\n",
       "      <th>0</th>\n",
       "      <td>5ef3b4f17053ab141787697d</td>\n",
       "      <td>2020-06-24 20:17:54.000 Z</td>\n",
       "      <td>2000-08-11 00:00:00.000 Z</td>\n",
       "      <td>CA</td>\n",
       "      <td>es-419</td>\n",
       "      <td>female</td>\n",
       "    </tr>\n",
       "    <tr>\n",
       "      <th>1</th>\n",
       "      <td>5ff220d383fcfc12622b96bc</td>\n",
       "      <td>2021-01-03 19:53:55.000 Z</td>\n",
       "      <td>2001-09-24 04:00:00.000 Z</td>\n",
       "      <td>PA</td>\n",
       "      <td>en</td>\n",
       "      <td>female</td>\n",
       "    </tr>\n",
       "    <tr>\n",
       "      <th>2</th>\n",
       "      <td>6477950aa55bb77a0e27ee10</td>\n",
       "      <td>2023-05-31 18:42:18.000 Z</td>\n",
       "      <td>1994-10-28 00:00:00.000 Z</td>\n",
       "      <td>FL</td>\n",
       "      <td>es-419</td>\n",
       "      <td>female</td>\n",
       "    </tr>\n",
       "    <tr>\n",
       "      <th>3</th>\n",
       "      <td>658a306e99b40f103b63ccf8</td>\n",
       "      <td>2023-12-26 01:46:22.000 Z</td>\n",
       "      <td>NaN</td>\n",
       "      <td>NC</td>\n",
       "      <td>en</td>\n",
       "      <td>NaN</td>\n",
       "    </tr>\n",
       "    <tr>\n",
       "      <th>4</th>\n",
       "      <td>653cf5d6a225ea102b7ecdc2</td>\n",
       "      <td>2023-10-28 11:51:50.000 Z</td>\n",
       "      <td>1972-03-19 00:00:00.000 Z</td>\n",
       "      <td>PA</td>\n",
       "      <td>en</td>\n",
       "      <td>female</td>\n",
       "    </tr>\n",
       "  </tbody>\n",
       "</table>\n",
       "</div>"
      ],
      "text/plain": [
       "                         ID               CREATED_DATE  \\\n",
       "0  5ef3b4f17053ab141787697d  2020-06-24 20:17:54.000 Z   \n",
       "1  5ff220d383fcfc12622b96bc  2021-01-03 19:53:55.000 Z   \n",
       "2  6477950aa55bb77a0e27ee10  2023-05-31 18:42:18.000 Z   \n",
       "3  658a306e99b40f103b63ccf8  2023-12-26 01:46:22.000 Z   \n",
       "4  653cf5d6a225ea102b7ecdc2  2023-10-28 11:51:50.000 Z   \n",
       "\n",
       "                  BIRTH_DATE STATE LANGUAGE  GENDER  \n",
       "0  2000-08-11 00:00:00.000 Z    CA   es-419  female  \n",
       "1  2001-09-24 04:00:00.000 Z    PA       en  female  \n",
       "2  1994-10-28 00:00:00.000 Z    FL   es-419  female  \n",
       "3                        NaN    NC       en     NaN  \n",
       "4  1972-03-19 00:00:00.000 Z    PA       en  female  "
      ]
     },
     "execution_count": 3,
     "metadata": {},
     "output_type": "execute_result"
    }
   ],
   "source": [
    "#Exploring the first few rows\n",
    "user_data.head()"
   ]
  },
  {
   "cell_type": "code",
   "execution_count": 4,
   "id": "013b8408",
   "metadata": {},
   "outputs": [
    {
     "name": "stdout",
     "output_type": "stream",
     "text": [
      "<class 'pandas.core.frame.DataFrame'>\n",
      "RangeIndex: 100000 entries, 0 to 99999\n",
      "Data columns (total 6 columns):\n",
      " #   Column        Non-Null Count   Dtype \n",
      "---  ------        --------------   ----- \n",
      " 0   ID            100000 non-null  object\n",
      " 1   CREATED_DATE  100000 non-null  object\n",
      " 2   BIRTH_DATE    96325 non-null   object\n",
      " 3   STATE         95188 non-null   object\n",
      " 4   LANGUAGE      69492 non-null   object\n",
      " 5   GENDER        94108 non-null   object\n",
      "dtypes: object(6)\n",
      "memory usage: 4.6+ MB\n"
     ]
    },
    {
     "data": {
      "text/plain": [
       "(None, (100000, 6))"
      ]
     },
     "execution_count": 4,
     "metadata": {},
     "output_type": "execute_result"
    }
   ],
   "source": [
    "# Dataset overview \n",
    "user_data.info(), user_data.shape "
   ]
  },
  {
   "cell_type": "code",
   "execution_count": 5,
   "id": "4e3d8029",
   "metadata": {},
   "outputs": [
    {
     "data": {
      "text/plain": [
       "ID                  0\n",
       "CREATED_DATE        0\n",
       "BIRTH_DATE       3675\n",
       "STATE            4812\n",
       "LANGUAGE        30508\n",
       "GENDER           5892\n",
       "dtype: int64"
      ]
     },
     "execution_count": 5,
     "metadata": {},
     "output_type": "execute_result"
    }
   ],
   "source": [
    "#checking missing values\n",
    "user_data.isnull().sum()"
   ]
  },
  {
   "cell_type": "code",
   "execution_count": 6,
   "id": "29058260",
   "metadata": {},
   "outputs": [
    {
     "data": {
      "text/plain": [
       "0"
      ]
     },
     "execution_count": 6,
     "metadata": {},
     "output_type": "execute_result"
    }
   ],
   "source": [
    "#checking duplicates\n",
    "user_data.duplicated().sum() "
   ]
  },
  {
   "cell_type": "code",
   "execution_count": 7,
   "id": "e4d35a07",
   "metadata": {},
   "outputs": [
    {
     "name": "stdout",
     "output_type": "stream",
     "text": [
      "ID ['5ef3b4f17053ab141787697d' '5ff220d383fcfc12622b96bc'\n",
      " '6477950aa55bb77a0e27ee10' ... '637d5efdd6f2a49c49934dcb'\n",
      " '5f0de23b05d8a6147dc0cafa' '5e7ab436905e9512ff44abc8']\n",
      "CREATED_DATE ['2020-06-24 20:17:54.000 Z' '2021-01-03 19:53:55.000 Z'\n",
      " '2023-05-31 18:42:18.000 Z' ... '2022-11-22 23:45:05.000 Z'\n",
      " '2020-07-14 16:50:04.000 Z' '2020-03-25 01:30:30.000 Z']\n",
      "BIRTH_DATE ['2000-08-11 00:00:00.000 Z' '2001-09-24 04:00:00.000 Z'\n",
      " '1994-10-28 00:00:00.000 Z' ... '1952-12-15 12:29:47.000 Z'\n",
      " '1992-03-16 08:00:00.000 Z' '1995-06-09 04:00:00.000 Z']\n",
      "STATE ['CA' 'PA' 'FL' 'NC' 'NY' 'IN' nan 'OH' 'TX' 'NM' 'PR' 'CO' 'AZ' 'RI' 'MO'\n",
      " 'NJ' 'MA' 'TN' 'LA' 'NH' 'WI' 'IA' 'GA' 'VA' 'DC' 'KY' 'SC' 'MN' 'WV'\n",
      " 'DE' 'MI' 'IL' 'MS' 'WA' 'KS' 'CT' 'OR' 'UT' 'MD' 'OK' 'NE' 'NV' 'AL'\n",
      " 'AK' 'AR' 'HI' 'ME' 'ND' 'ID' 'WY' 'MT' 'SD' 'VT']\n",
      "LANGUAGE ['es-419' 'en' nan]\n",
      "GENDER ['female' nan 'male' 'non_binary' 'transgender' 'prefer_not_to_say'\n",
      " 'not_listed' 'Non-Binary' 'unknown' 'not_specified'\n",
      " \"My gender isn't listed\" 'Prefer not to say']\n"
     ]
    }
   ],
   "source": [
    "#understanding possible value for categorical data columns \n",
    "for feature in user_data.columns:\n",
    "    if user_data[feature].dtype==object:\n",
    "        print(feature,  user_data[feature].unique())"
   ]
  },
  {
   "cell_type": "markdown",
   "id": "c13d824d",
   "metadata": {},
   "source": [
    "Observation:\n",
    "1. Missing values (nan) in critical columns like STATE, LANGUAGE, and GENDER may indicate incomplete user profiles, which may limit the accuracy of segmentation or personalized services.\n",
    "\n",
    "2. Columns CREATED_DATE and BIRTH_DATE are of type object and should be in date format(e.g., YYYY-MM-DD)\n",
    "\n",
    "3. The GENDER column has below inconsistent representations of the same value, and need to be standardized before further analysis. \n",
    "\t- 'non_binary' and 'Non-Binary', \n",
    "\t- 'prefer_not_to_say' and 'Prefer not to say' \n",
    "\t- 'not_specified' and 'unknown' could represent the same concept, but are being used separately.\n",
    "\n",
    "\n",
    "4. The STATE column contains nan values, indicating missing data. missing state information could affect geographical insights.\n",
    "\n",
    "5. The LANGUAGE column has  nan values, meaning some users have no preferred language specified.\n",
    "\n",
    "6. The GENDER column also contains missing (nan) values, which might cause issues if gender-based insights or segmentation are needed.\n",
    "\n",
    "7. Some BIRTH_DATE entries contain specific timestamps (e.g., '1952-12-15 12:29:47.000 Z') while others have a standardized time ('00:00:00.000 Z').\n",
    "\n",
    "8. The STATE column uses two-letter abbreviations for U.S. states, but there’s a record for 'PR' which I assume is Puerto Rico. This may require clarification on whether it should be grouped with U.S. states or handled differently."
   ]
  },
  {
   "cell_type": "code",
   "execution_count": 8,
   "id": "cc4161a4",
   "metadata": {},
   "outputs": [],
   "source": [
    "#changing the format of CREATED_DATE and BIRTH_DATE to YYYY-MM-DD\n",
    "user_data['CREATED_DATE'] = pd.to_datetime(user_data['CREATED_DATE'], errors='coerce')\n",
    "user_data['CREATED_DATE'] = user_data['CREATED_DATE'].dt.date\n",
    "user_data['BIRTH_DATE'] = pd.to_datetime(user_data['BIRTH_DATE'], errors='coerce')\n",
    "user_data['BIRTH_DATE'] = user_data['BIRTH_DATE'].dt.date\n",
    "user_data['CREATED_DATE'] = pd.to_datetime(user_data['CREATED_DATE'], errors='coerce')\n",
    "user_data['BIRTH_DATE'] = pd.to_datetime(user_data['BIRTH_DATE'], errors='coerce')"
   ]
  },
  {
   "cell_type": "markdown",
   "id": "67e24fe7",
   "metadata": {},
   "source": [
    "### creating a new column age by calculating the age from BIRTH_DATE column"
   ]
  },
  {
   "cell_type": "code",
   "execution_count": 9,
   "id": "7fab56b6",
   "metadata": {},
   "outputs": [
    {
     "data": {
      "text/html": [
       "<div>\n",
       "<style scoped>\n",
       "    .dataframe tbody tr th:only-of-type {\n",
       "        vertical-align: middle;\n",
       "    }\n",
       "\n",
       "    .dataframe tbody tr th {\n",
       "        vertical-align: top;\n",
       "    }\n",
       "\n",
       "    .dataframe thead th {\n",
       "        text-align: right;\n",
       "    }\n",
       "</style>\n",
       "<table border=\"1\" class=\"dataframe\">\n",
       "  <thead>\n",
       "    <tr style=\"text-align: right;\">\n",
       "      <th></th>\n",
       "      <th>BIRTH_DATE</th>\n",
       "      <th>AGE</th>\n",
       "    </tr>\n",
       "  </thead>\n",
       "  <tbody>\n",
       "    <tr>\n",
       "      <th>0</th>\n",
       "      <td>2000-08-11</td>\n",
       "      <td>24.0</td>\n",
       "    </tr>\n",
       "    <tr>\n",
       "      <th>1</th>\n",
       "      <td>2001-09-24</td>\n",
       "      <td>23.0</td>\n",
       "    </tr>\n",
       "    <tr>\n",
       "      <th>2</th>\n",
       "      <td>1994-10-28</td>\n",
       "      <td>30.0</td>\n",
       "    </tr>\n",
       "    <tr>\n",
       "      <th>3</th>\n",
       "      <td>NaT</td>\n",
       "      <td>NaN</td>\n",
       "    </tr>\n",
       "    <tr>\n",
       "      <th>4</th>\n",
       "      <td>1972-03-19</td>\n",
       "      <td>52.0</td>\n",
       "    </tr>\n",
       "  </tbody>\n",
       "</table>\n",
       "</div>"
      ],
      "text/plain": [
       "  BIRTH_DATE   AGE\n",
       "0 2000-08-11  24.0\n",
       "1 2001-09-24  23.0\n",
       "2 1994-10-28  30.0\n",
       "3        NaT   NaN\n",
       "4 1972-03-19  52.0"
      ]
     },
     "execution_count": 9,
     "metadata": {},
     "output_type": "execute_result"
    }
   ],
   "source": [
    "# Define a function to calculate age\n",
    "def calculate_age(birthdate):\n",
    "    today = datetime.today()\n",
    "    return today.year - birthdate.year - ((today.month, today.day) < (birthdate.month, birthdate.day))\n",
    "\n",
    "# Apply the function to create the 'age' column\n",
    "user_data['AGE'] = user_data['BIRTH_DATE'].apply(lambda x: calculate_age(x) if pd.notnull(x) else None)\n",
    "\n",
    "#converting the 'age' column to numeric\n",
    "user_data['AGE'] = pd.to_numeric(user_data['AGE'], errors='coerce')\n",
    "\n",
    "# Check the first few rows to verify\n",
    "user_data[['BIRTH_DATE', 'AGE']].head()"
   ]
  },
  {
   "cell_type": "markdown",
   "id": "57ea2264",
   "metadata": {},
   "source": [
    "### standardize GENDER column values "
   ]
  },
  {
   "cell_type": "code",
   "execution_count": 10,
   "id": "4a8242c4",
   "metadata": {},
   "outputs": [
    {
     "name": "stdout",
     "output_type": "stream",
     "text": [
      "GENDER\n",
      "female               64240\n",
      "male                 25829\n",
      "transgender           1772\n",
      "prefer_not_to_say     1350\n",
      "Non-Binary             507\n",
      "unknown                229\n",
      "not_listed             180\n",
      "Prefer not to say        1\n",
      "Name: count, dtype: int64\n"
     ]
    }
   ],
   "source": [
    "\n",
    "\n",
    "# Define the mapping of inconsistent values to standardized values\n",
    "gender_mapping = {\n",
    "    'non_binary': 'Non-Binary',\n",
    "    'prefer_not_to_say': 'prefer_not_to_say',\n",
    "    'not_specified': 'unknown', \n",
    "    'My gender isn\\'t listed': 'unknown'\n",
    "}\n",
    "\n",
    "# Apply the mapping to the GENDER column\n",
    "user_data['GENDER'] = user_data['GENDER'].replace(gender_mapping)\n",
    "\n",
    "# Verify the standardization\n",
    "print(user_data['GENDER'].value_counts())\n"
   ]
  },
  {
   "cell_type": "markdown",
   "id": "a87b461a",
   "metadata": {},
   "source": [
    "### overview of categorical data distribution"
   ]
  },
  {
   "cell_type": "code",
   "execution_count": 11,
   "id": "48fda75b",
   "metadata": {},
   "outputs": [
    {
     "name": "stderr",
     "output_type": "stream",
     "text": [
      "<ipython-input-11-66b6991edbf8>:22: FutureWarning: \n",
      "\n",
      "Passing `palette` without assigning `hue` is deprecated and will be removed in v0.14.0. Assign the `y` variable to `hue` and set `legend=False` for the same effect.\n",
      "\n",
      "  sns.countplot(y=user_data['STATE'], order=user_data['STATE'].value_counts().index, ax=axes[0, 1], palette = 'colorblind')\n",
      "<ipython-input-11-66b6991edbf8>:26: FutureWarning: \n",
      "\n",
      "Passing `palette` without assigning `hue` is deprecated and will be removed in v0.14.0. Assign the `x` variable to `hue` and set `legend=False` for the same effect.\n",
      "\n",
      "  sns.countplot(x=user_data['GENDER'], ax=axes[1, 0], palette = 'pastel')\n",
      "<ipython-input-11-66b6991edbf8>:30: FutureWarning: \n",
      "\n",
      "Passing `palette` without assigning `hue` is deprecated and will be removed in v0.14.0. Assign the `x` variable to `hue` and set `legend=False` for the same effect.\n",
      "\n",
      "  sns.countplot(x=user_data['LANGUAGE'], ax=axes[1, 1], palette='colorblind')\n"
     ]
    },
    {
     "data": {
      "image/png": "[encoded data removed]",
      "text/plain": [
       "<Figure size 1224x1008 with 4 Axes>"
      ]
     },
     "metadata": {
      "needs_background": "light"
     },
     "output_type": "display_data"
    }
   ],
   "source": [
    "\n",
    "\n",
    "# Ensure AGE is numeric\n",
    "user_data['AGE'] = pd.to_numeric(user_data['AGE'], errors='coerce')\n",
    "\n",
    "# Drop missing values in categorical and age columns\n",
    "user_data = user_data.dropna(subset=['AGE'])\n",
    "user_data = user_data.dropna(subset=['STATE', 'GENDER', 'LANGUAGE'])\n",
    "\n",
    "# Ensure no multi-dimensional data structure exists\n",
    "user_data = user_data.reset_index(drop=True)\n",
    "\n",
    "# Convert AGE to a numpy array if necessary\n",
    "user_data['AGE'] = user_data['AGE'].to_numpy().flatten()\n",
    "\n",
    "# Create subplots\n",
    "fig, axes = plt.subplots(2,2, figsize=(17, 14))  # Adjust figure size as needed\n",
    "\n",
    "# Distribution of Age\n",
    "sns.histplot(data=user_data, x='AGE', ax=axes[0, 0])\n",
    "axes[0, 0].set_title('Age Distribution')\n",
    "\n",
    "# Distribution of State\n",
    "sns.countplot(y=user_data['STATE'], order=user_data['STATE'].value_counts().index, ax=axes[0, 1], palette = 'colorblind')\n",
    "axes[0, 1].set_title('State Distribution')\n",
    "\n",
    "# Distribution of Gender\n",
    "sns.countplot(x=user_data['GENDER'], ax=axes[1, 0], palette = 'pastel')\n",
    "axes[1, 0].set_title('Gender Distribution')\n",
    "\n",
    "# Distribution of Language\n",
    "sns.countplot(x=user_data['LANGUAGE'], ax=axes[1, 1], palette='colorblind')\n",
    "axes[1, 1].set_title('Language Distribution')\n",
    "\n",
    "# Adjust layout for better spacing\n",
    "plt.tight_layout()\n",
    "\n",
    "# Show the plots\n",
    "plt.show()\n",
    "\n"
   ]
  },
  {
   "cell_type": "code",
   "execution_count": 12,
   "id": "9ed3cbdc",
   "metadata": {},
   "outputs": [],
   "source": [
    "# Save the modified user_data dataset\n",
    "user_data.to_csv(\"user_data_cleaned.csv\", index=False)"
   ]
  },
  {
   "cell_type": "code",
   "execution_count": null,
   "id": "5d8ace56",
   "metadata": {},
   "outputs": [],
   "source": []
  },
  {
   "cell_type": "markdown",
   "id": "283d87a7",
   "metadata": {},
   "source": [
    "## 2.Transaction Dataset"
   ]
  },
  {
   "cell_type": "code",
   "execution_count": 13,
   "id": "4cb90fa0",
   "metadata": {},
   "outputs": [
    {
     "data": {
      "text/html": [
       "<div>\n",
       "<style scoped>\n",
       "    .dataframe tbody tr th:only-of-type {\n",
       "        vertical-align: middle;\n",
       "    }\n",
       "\n",
       "    .dataframe tbody tr th {\n",
       "        vertical-align: top;\n",
       "    }\n",
       "\n",
       "    .dataframe thead th {\n",
       "        text-align: right;\n",
       "    }\n",
       "</style>\n",
       "<table border=\"1\" class=\"dataframe\">\n",
       "  <thead>\n",
       "    <tr style=\"text-align: right;\">\n",
       "      <th></th>\n",
       "      <th>RECEIPT_ID</th>\n",
       "      <th>PURCHASE_DATE</th>\n",
       "      <th>SCAN_DATE</th>\n",
       "      <th>STORE_NAME</th>\n",
       "      <th>USER_ID</th>\n",
       "      <th>BARCODE</th>\n",
       "      <th>FINAL_QUANTITY</th>\n",
       "      <th>FINAL_SALE</th>\n",
       "    </tr>\n",
       "  </thead>\n",
       "  <tbody>\n",
       "    <tr>\n",
       "      <th>0</th>\n",
       "      <td>0000d256-4041-4a3e-adc4-5623fb6e0c99</td>\n",
       "      <td>2024-08-21</td>\n",
       "      <td>2024-08-21 14:19:06.539 Z</td>\n",
       "      <td>WALMART</td>\n",
       "      <td>63b73a7f3d310dceeabd4758</td>\n",
       "      <td>1.530001e+10</td>\n",
       "      <td>1.00</td>\n",
       "      <td></td>\n",
       "    </tr>\n",
       "    <tr>\n",
       "      <th>1</th>\n",
       "      <td>0001455d-7a92-4a7b-a1d2-c747af1c8fd3</td>\n",
       "      <td>2024-07-20</td>\n",
       "      <td>2024-07-20 09:50:24.206 Z</td>\n",
       "      <td>ALDI</td>\n",
       "      <td>62c08877baa38d1a1f6c211a</td>\n",
       "      <td>NaN</td>\n",
       "      <td>zero</td>\n",
       "      <td>1.49</td>\n",
       "    </tr>\n",
       "    <tr>\n",
       "      <th>2</th>\n",
       "      <td>00017e0a-7851-42fb-bfab-0baa96e23586</td>\n",
       "      <td>2024-08-18</td>\n",
       "      <td>2024-08-19 15:38:56.813 Z</td>\n",
       "      <td>WALMART</td>\n",
       "      <td>60842f207ac8b7729e472020</td>\n",
       "      <td>7.874223e+10</td>\n",
       "      <td>1.00</td>\n",
       "      <td></td>\n",
       "    </tr>\n",
       "    <tr>\n",
       "      <th>3</th>\n",
       "      <td>000239aa-3478-453d-801e-66a82e39c8af</td>\n",
       "      <td>2024-06-18</td>\n",
       "      <td>2024-06-19 11:03:37.468 Z</td>\n",
       "      <td>FOOD LION</td>\n",
       "      <td>63fcd7cea4f8442c3386b589</td>\n",
       "      <td>7.833997e+11</td>\n",
       "      <td>zero</td>\n",
       "      <td>3.49</td>\n",
       "    </tr>\n",
       "    <tr>\n",
       "      <th>4</th>\n",
       "      <td>00026b4c-dfe8-49dd-b026-4c2f0fd5c6a1</td>\n",
       "      <td>2024-07-04</td>\n",
       "      <td>2024-07-05 15:56:43.549 Z</td>\n",
       "      <td>RANDALLS</td>\n",
       "      <td>6193231ae9b3d75037b0f928</td>\n",
       "      <td>4.790050e+10</td>\n",
       "      <td>1.00</td>\n",
       "      <td></td>\n",
       "    </tr>\n",
       "  </tbody>\n",
       "</table>\n",
       "</div>"
      ],
      "text/plain": [
       "                             RECEIPT_ID PURCHASE_DATE  \\\n",
       "0  0000d256-4041-4a3e-adc4-5623fb6e0c99    2024-08-21   \n",
       "1  0001455d-7a92-4a7b-a1d2-c747af1c8fd3    2024-07-20   \n",
       "2  00017e0a-7851-42fb-bfab-0baa96e23586    2024-08-18   \n",
       "3  000239aa-3478-453d-801e-66a82e39c8af    2024-06-18   \n",
       "4  00026b4c-dfe8-49dd-b026-4c2f0fd5c6a1    2024-07-04   \n",
       "\n",
       "                   SCAN_DATE STORE_NAME                   USER_ID  \\\n",
       "0  2024-08-21 14:19:06.539 Z    WALMART  63b73a7f3d310dceeabd4758   \n",
       "1  2024-07-20 09:50:24.206 Z       ALDI  62c08877baa38d1a1f6c211a   \n",
       "2  2024-08-19 15:38:56.813 Z    WALMART  60842f207ac8b7729e472020   \n",
       "3  2024-06-19 11:03:37.468 Z  FOOD LION  63fcd7cea4f8442c3386b589   \n",
       "4  2024-07-05 15:56:43.549 Z   RANDALLS  6193231ae9b3d75037b0f928   \n",
       "\n",
       "        BARCODE FINAL_QUANTITY FINAL_SALE  \n",
       "0  1.530001e+10           1.00             \n",
       "1           NaN           zero       1.49  \n",
       "2  7.874223e+10           1.00             \n",
       "3  7.833997e+11           zero       3.49  \n",
       "4  4.790050e+10           1.00             "
      ]
     },
     "execution_count": 13,
     "metadata": {},
     "output_type": "execute_result"
    }
   ],
   "source": [
    "#Exploring the first few rows\n",
    "trans_data.head() "
   ]
  },
  {
   "cell_type": "code",
   "execution_count": 14,
   "id": "d6c59af7",
   "metadata": {
    "scrolled": true
   },
   "outputs": [
    {
     "name": "stdout",
     "output_type": "stream",
     "text": [
      "<class 'pandas.core.frame.DataFrame'>\n",
      "RangeIndex: 50000 entries, 0 to 49999\n",
      "Data columns (total 8 columns):\n",
      " #   Column          Non-Null Count  Dtype  \n",
      "---  ------          --------------  -----  \n",
      " 0   RECEIPT_ID      50000 non-null  object \n",
      " 1   PURCHASE_DATE   50000 non-null  object \n",
      " 2   SCAN_DATE       50000 non-null  object \n",
      " 3   STORE_NAME      50000 non-null  object \n",
      " 4   USER_ID         50000 non-null  object \n",
      " 5   BARCODE         44238 non-null  float64\n",
      " 6   FINAL_QUANTITY  50000 non-null  object \n",
      " 7   FINAL_SALE      50000 non-null  object \n",
      "dtypes: float64(1), object(7)\n",
      "memory usage: 3.1+ MB\n"
     ]
    },
    {
     "data": {
      "text/plain": [
       "(None, (50000, 8))"
      ]
     },
     "execution_count": 14,
     "metadata": {},
     "output_type": "execute_result"
    }
   ],
   "source": [
    "#dataset overview\n",
    "trans_data.info(), trans_data.shape"
   ]
  },
  {
   "cell_type": "code",
   "execution_count": 15,
   "id": "08998ca4",
   "metadata": {},
   "outputs": [
    {
     "data": {
      "text/plain": [
       "RECEIPT_ID           0\n",
       "PURCHASE_DATE        0\n",
       "SCAN_DATE            0\n",
       "STORE_NAME           0\n",
       "USER_ID              0\n",
       "BARCODE           5762\n",
       "FINAL_QUANTITY       0\n",
       "FINAL_SALE           0\n",
       "dtype: int64"
      ]
     },
     "execution_count": 15,
     "metadata": {},
     "output_type": "execute_result"
    }
   ],
   "source": [
    "#checking missing values\n",
    "trans_data.isnull().sum()"
   ]
  },
  {
   "cell_type": "code",
   "execution_count": 16,
   "id": "63f02770",
   "metadata": {},
   "outputs": [
    {
     "name": "stdout",
     "output_type": "stream",
     "text": [
      "Duplicate RECEIPT_IDs: 25560\n"
     ]
    }
   ],
   "source": [
    "#checking duplicates in Receipt_id column\n",
    "duplicates = trans_data['RECEIPT_ID'].duplicated().sum()\n",
    "print(f\"Duplicate RECEIPT_IDs: {duplicates}\")\n"
   ]
  },
  {
   "cell_type": "code",
   "execution_count": 17,
   "id": "17c15ad9",
   "metadata": {},
   "outputs": [
    {
     "data": {
      "text/html": [
       "<div>\n",
       "<style scoped>\n",
       "    .dataframe tbody tr th:only-of-type {\n",
       "        vertical-align: middle;\n",
       "    }\n",
       "\n",
       "    .dataframe tbody tr th {\n",
       "        vertical-align: top;\n",
       "    }\n",
       "\n",
       "    .dataframe thead th {\n",
       "        text-align: right;\n",
       "    }\n",
       "</style>\n",
       "<table border=\"1\" class=\"dataframe\">\n",
       "  <thead>\n",
       "    <tr style=\"text-align: right;\">\n",
       "      <th></th>\n",
       "      <th>RECEIPT_ID</th>\n",
       "      <th>PURCHASE_DATE</th>\n",
       "      <th>SCAN_DATE</th>\n",
       "      <th>STORE_NAME</th>\n",
       "      <th>USER_ID</th>\n",
       "      <th>BARCODE</th>\n",
       "      <th>FINAL_QUANTITY</th>\n",
       "      <th>FINAL_SALE</th>\n",
       "    </tr>\n",
       "  </thead>\n",
       "  <tbody>\n",
       "    <tr>\n",
       "      <th>0</th>\n",
       "      <td>0000d256-4041-4a3e-adc4-5623fb6e0c99</td>\n",
       "      <td>2024-08-21</td>\n",
       "      <td>2024-08-21 14:19:06.539 Z</td>\n",
       "      <td>WALMART</td>\n",
       "      <td>63b73a7f3d310dceeabd4758</td>\n",
       "      <td>1.530001e+10</td>\n",
       "      <td>1.00</td>\n",
       "      <td></td>\n",
       "    </tr>\n",
       "    <tr>\n",
       "      <th>1</th>\n",
       "      <td>0001455d-7a92-4a7b-a1d2-c747af1c8fd3</td>\n",
       "      <td>2024-07-20</td>\n",
       "      <td>2024-07-20 09:50:24.206 Z</td>\n",
       "      <td>ALDI</td>\n",
       "      <td>62c08877baa38d1a1f6c211a</td>\n",
       "      <td>NaN</td>\n",
       "      <td>zero</td>\n",
       "      <td>1.49</td>\n",
       "    </tr>\n",
       "    <tr>\n",
       "      <th>2</th>\n",
       "      <td>00017e0a-7851-42fb-bfab-0baa96e23586</td>\n",
       "      <td>2024-08-18</td>\n",
       "      <td>2024-08-19 15:38:56.813 Z</td>\n",
       "      <td>WALMART</td>\n",
       "      <td>60842f207ac8b7729e472020</td>\n",
       "      <td>7.874223e+10</td>\n",
       "      <td>1.00</td>\n",
       "      <td></td>\n",
       "    </tr>\n",
       "    <tr>\n",
       "      <th>3</th>\n",
       "      <td>000239aa-3478-453d-801e-66a82e39c8af</td>\n",
       "      <td>2024-06-18</td>\n",
       "      <td>2024-06-19 11:03:37.468 Z</td>\n",
       "      <td>FOOD LION</td>\n",
       "      <td>63fcd7cea4f8442c3386b589</td>\n",
       "      <td>7.833997e+11</td>\n",
       "      <td>zero</td>\n",
       "      <td>3.49</td>\n",
       "    </tr>\n",
       "    <tr>\n",
       "      <th>4</th>\n",
       "      <td>00026b4c-dfe8-49dd-b026-4c2f0fd5c6a1</td>\n",
       "      <td>2024-07-04</td>\n",
       "      <td>2024-07-05 15:56:43.549 Z</td>\n",
       "      <td>RANDALLS</td>\n",
       "      <td>6193231ae9b3d75037b0f928</td>\n",
       "      <td>4.790050e+10</td>\n",
       "      <td>1.00</td>\n",
       "      <td></td>\n",
       "    </tr>\n",
       "  </tbody>\n",
       "</table>\n",
       "</div>"
      ],
      "text/plain": [
       "                             RECEIPT_ID PURCHASE_DATE  \\\n",
       "0  0000d256-4041-4a3e-adc4-5623fb6e0c99    2024-08-21   \n",
       "1  0001455d-7a92-4a7b-a1d2-c747af1c8fd3    2024-07-20   \n",
       "2  00017e0a-7851-42fb-bfab-0baa96e23586    2024-08-18   \n",
       "3  000239aa-3478-453d-801e-66a82e39c8af    2024-06-18   \n",
       "4  00026b4c-dfe8-49dd-b026-4c2f0fd5c6a1    2024-07-04   \n",
       "\n",
       "                   SCAN_DATE STORE_NAME                   USER_ID  \\\n",
       "0  2024-08-21 14:19:06.539 Z    WALMART  63b73a7f3d310dceeabd4758   \n",
       "1  2024-07-20 09:50:24.206 Z       ALDI  62c08877baa38d1a1f6c211a   \n",
       "2  2024-08-19 15:38:56.813 Z    WALMART  60842f207ac8b7729e472020   \n",
       "3  2024-06-19 11:03:37.468 Z  FOOD LION  63fcd7cea4f8442c3386b589   \n",
       "4  2024-07-05 15:56:43.549 Z   RANDALLS  6193231ae9b3d75037b0f928   \n",
       "\n",
       "        BARCODE FINAL_QUANTITY FINAL_SALE  \n",
       "0  1.530001e+10           1.00             \n",
       "1           NaN           zero       1.49  \n",
       "2  7.874223e+10           1.00             \n",
       "3  7.833997e+11           zero       3.49  \n",
       "4  4.790050e+10           1.00             "
      ]
     },
     "execution_count": 17,
     "metadata": {},
     "output_type": "execute_result"
    }
   ],
   "source": [
    "# Investigate duplicates by inspecting the first few duplicate entries\n",
    "duplicate_entries = trans_data[trans_data['RECEIPT_ID'].duplicated(keep=False)]\n",
    "duplicate_entries.head()\n"
   ]
  },
  {
   "cell_type": "code",
   "execution_count": 18,
   "id": "c5f391b9",
   "metadata": {},
   "outputs": [
    {
     "data": {
      "text/html": [
       "<div>\n",
       "<style scoped>\n",
       "    .dataframe tbody tr th:only-of-type {\n",
       "        vertical-align: middle;\n",
       "    }\n",
       "\n",
       "    .dataframe tbody tr th {\n",
       "        vertical-align: top;\n",
       "    }\n",
       "\n",
       "    .dataframe thead th {\n",
       "        text-align: right;\n",
       "    }\n",
       "</style>\n",
       "<table border=\"1\" class=\"dataframe\">\n",
       "  <thead>\n",
       "    <tr style=\"text-align: right;\">\n",
       "      <th></th>\n",
       "      <th>RECEIPT_ID</th>\n",
       "      <th>PURCHASE_DATE</th>\n",
       "      <th>SCAN_DATE</th>\n",
       "      <th>STORE_NAME</th>\n",
       "      <th>USER_ID</th>\n",
       "      <th>BARCODE</th>\n",
       "      <th>FINAL_QUANTITY</th>\n",
       "      <th>FINAL_SALE</th>\n",
       "    </tr>\n",
       "  </thead>\n",
       "  <tbody>\n",
       "    <tr>\n",
       "      <th>0</th>\n",
       "      <td>0000d256-4041-4a3e-adc4-5623fb6e0c99</td>\n",
       "      <td>2024-08-21</td>\n",
       "      <td>2024-08-21 14:19:06.539 Z</td>\n",
       "      <td>WALMART</td>\n",
       "      <td>63b73a7f3d310dceeabd4758</td>\n",
       "      <td>1.530001e+10</td>\n",
       "      <td>1.00</td>\n",
       "      <td></td>\n",
       "    </tr>\n",
       "    <tr>\n",
       "      <th>41567</th>\n",
       "      <td>0000d256-4041-4a3e-adc4-5623fb6e0c99</td>\n",
       "      <td>2024-08-21</td>\n",
       "      <td>2024-08-21 14:19:06.539 Z</td>\n",
       "      <td>WALMART</td>\n",
       "      <td>63b73a7f3d310dceeabd4758</td>\n",
       "      <td>1.530001e+10</td>\n",
       "      <td>1.00</td>\n",
       "      <td>1.54</td>\n",
       "    </tr>\n",
       "  </tbody>\n",
       "</table>\n",
       "</div>"
      ],
      "text/plain": [
       "                                 RECEIPT_ID PURCHASE_DATE  \\\n",
       "0      0000d256-4041-4a3e-adc4-5623fb6e0c99    2024-08-21   \n",
       "41567  0000d256-4041-4a3e-adc4-5623fb6e0c99    2024-08-21   \n",
       "\n",
       "                       SCAN_DATE STORE_NAME                   USER_ID  \\\n",
       "0      2024-08-21 14:19:06.539 Z    WALMART  63b73a7f3d310dceeabd4758   \n",
       "41567  2024-08-21 14:19:06.539 Z    WALMART  63b73a7f3d310dceeabd4758   \n",
       "\n",
       "            BARCODE FINAL_QUANTITY FINAL_SALE  \n",
       "0      1.530001e+10           1.00             \n",
       "41567  1.530001e+10           1.00       1.54  "
      ]
     },
     "execution_count": 18,
     "metadata": {},
     "output_type": "execute_result"
    }
   ],
   "source": [
    "# Filter rows where RECEIPT_ID matches the specified value\n",
    "specific_receipt_rows = trans_data[trans_data['RECEIPT_ID'] == '0000d256-4041-4a3e-adc4-5623fb6e0c99']\n",
    "\n",
    "# Display the filtered rows\n",
    "specific_receipt_rows\n"
   ]
  },
  {
   "cell_type": "code",
   "execution_count": 19,
   "id": "3e837f87",
   "metadata": {},
   "outputs": [
    {
     "data": {
      "text/html": [
       "<div>\n",
       "<style scoped>\n",
       "    .dataframe tbody tr th:only-of-type {\n",
       "        vertical-align: middle;\n",
       "    }\n",
       "\n",
       "    .dataframe tbody tr th {\n",
       "        vertical-align: top;\n",
       "    }\n",
       "\n",
       "    .dataframe thead th {\n",
       "        text-align: right;\n",
       "    }\n",
       "</style>\n",
       "<table border=\"1\" class=\"dataframe\">\n",
       "  <thead>\n",
       "    <tr style=\"text-align: right;\">\n",
       "      <th></th>\n",
       "      <th>RECEIPT_ID</th>\n",
       "      <th>PURCHASE_DATE</th>\n",
       "      <th>SCAN_DATE</th>\n",
       "      <th>STORE_NAME</th>\n",
       "      <th>USER_ID</th>\n",
       "      <th>BARCODE</th>\n",
       "      <th>FINAL_QUANTITY</th>\n",
       "      <th>FINAL_SALE</th>\n",
       "    </tr>\n",
       "  </thead>\n",
       "  <tbody>\n",
       "    <tr>\n",
       "      <th>3</th>\n",
       "      <td>000239aa-3478-453d-801e-66a82e39c8af</td>\n",
       "      <td>2024-06-18</td>\n",
       "      <td>2024-06-19 11:03:37.468 Z</td>\n",
       "      <td>FOOD LION</td>\n",
       "      <td>63fcd7cea4f8442c3386b589</td>\n",
       "      <td>7.833997e+11</td>\n",
       "      <td>zero</td>\n",
       "      <td>3.49</td>\n",
       "    </tr>\n",
       "    <tr>\n",
       "      <th>41475</th>\n",
       "      <td>000239aa-3478-453d-801e-66a82e39c8af</td>\n",
       "      <td>2024-06-18</td>\n",
       "      <td>2024-06-19 11:03:37.468 Z</td>\n",
       "      <td>FOOD LION</td>\n",
       "      <td>63fcd7cea4f8442c3386b589</td>\n",
       "      <td>7.833997e+11</td>\n",
       "      <td>1.00</td>\n",
       "      <td>3.49</td>\n",
       "    </tr>\n",
       "  </tbody>\n",
       "</table>\n",
       "</div>"
      ],
      "text/plain": [
       "                                 RECEIPT_ID PURCHASE_DATE  \\\n",
       "3      000239aa-3478-453d-801e-66a82e39c8af    2024-06-18   \n",
       "41475  000239aa-3478-453d-801e-66a82e39c8af    2024-06-18   \n",
       "\n",
       "                       SCAN_DATE STORE_NAME                   USER_ID  \\\n",
       "3      2024-06-19 11:03:37.468 Z  FOOD LION  63fcd7cea4f8442c3386b589   \n",
       "41475  2024-06-19 11:03:37.468 Z  FOOD LION  63fcd7cea4f8442c3386b589   \n",
       "\n",
       "            BARCODE FINAL_QUANTITY FINAL_SALE  \n",
       "3      7.833997e+11           zero       3.49  \n",
       "41475  7.833997e+11           1.00       3.49  "
      ]
     },
     "execution_count": 19,
     "metadata": {},
     "output_type": "execute_result"
    }
   ],
   "source": [
    "# Filter rows where RECEIPT_ID matches the specified value\n",
    "specific_receipt_rows = trans_data[trans_data['RECEIPT_ID'] == '000239aa-3478-453d-801e-66a82e39c8af']\n",
    "\n",
    "# Display the filtered rows\n",
    "specific_receipt_rows"
   ]
  },
  {
   "cell_type": "markdown",
   "id": "69b0824f",
   "metadata": {},
   "source": [
    "Observation: The number of duplicate IDs is quite high, therefore i crosschecked the first few duplicate entries to verify whether multiple products are tied to a same transaction(e.g., one receipt contains several items, and each item has a separate entry) but it's not the case. This is by far the highest data quality issues encountered and needs further investigation. "
   ]
  },
  {
   "cell_type": "code",
   "execution_count": 20,
   "id": "9342a495",
   "metadata": {},
   "outputs": [
    {
     "name": "stdout",
     "output_type": "stream",
     "text": [
      "Invalid PURCHASE_DATE entries: 0\n",
      "Invalid SCAN_DATE entries: 0\n",
      "Transactions with SCAN_DATE earlier than PURCHASE_DATE: 94\n"
     ]
    }
   ],
   "source": [
    "# checking for scan dates earlier than purchase dataes\n",
    "\n",
    "trans_data['PURCHASE_DATE'] = pd.to_datetime(trans_data['PURCHASE_DATE'], errors='coerce')\n",
    "trans_data['SCAN_DATE'] = pd.to_datetime(trans_data['SCAN_DATE'], errors='coerce')\n",
    "trans_data['PURCHASE_DATE'] = trans_data['PURCHASE_DATE'].dt.date\n",
    "trans_data['SCAN_DATE'] = trans_data['SCAN_DATE'].dt.date\n",
    "trans_data['SCAN_DATE'] = pd.to_datetime(trans_data['SCAN_DATE'], errors='coerce')\n",
    "trans_data['PURCHASE_DATE'] = pd.to_datetime(trans_data['PURCHASE_DATE'], errors='coerce')\n",
    "\n",
    "\n",
    "\n",
    "invalid_purchase_dates = trans_data['PURCHASE_DATE'].isnull().sum()\n",
    "invalid_scan_dates = trans_data['SCAN_DATE'].isnull().sum()\n",
    "print(f\"Invalid PURCHASE_DATE entries: {invalid_purchase_dates}\")\n",
    "print(f\"Invalid SCAN_DATE entries: {invalid_scan_dates}\")\n",
    "\n",
    "# Check for scan dates earlier than purchase dates\n",
    "invalid_date_order = (trans_data['SCAN_DATE'] < trans_data['PURCHASE_DATE']).sum()\n",
    "print(f\"Transactions with SCAN_DATE earlier than PURCHASE_DATE: {invalid_date_order}\")\n"
   ]
  },
  {
   "cell_type": "markdown",
   "id": "ddc974f1",
   "metadata": {},
   "source": [
    "### Correlation heatmap between FINAL_QUANTITY & FINAL_SALE"
   ]
  },
  {
   "cell_type": "code",
   "execution_count": 21,
   "id": "fade6961",
   "metadata": {},
   "outputs": [
    {
     "data": {
      "image/png": "[encoded data removed]",
      "text/plain": [
       "<Figure size 432x288 with 2 Axes>"
      ]
     },
     "metadata": {
      "needs_background": "light"
     },
     "output_type": "display_data"
    }
   ],
   "source": [
    "\n",
    "# Convert FINAL_QUANTITY and FINAL_SALE to numeric, replace 'zero' with 0, and coerce other errors to NaN\n",
    "trans_data['FINAL_QUANTITY'] = pd.to_numeric(trans_data['FINAL_QUANTITY'].replace('zero', 0), errors='coerce')\n",
    "trans_data['FINAL_SALE'] = pd.to_numeric(trans_data['FINAL_SALE'], errors='coerce')\n",
    "\n",
    "# Now create the correlation heatmap\n",
    "corr = trans_data[['FINAL_QUANTITY', 'FINAL_SALE']].corr()\n",
    "plt.figure(figsize=(6, 4))\n",
    "sns.heatmap(corr, annot=True, cmap='coolwarm')\n",
    "plt.title('Correlation Matrix')\n",
    "plt.show()\n"
   ]
  },
  {
   "cell_type": "markdown",
   "id": "f2712605",
   "metadata": {},
   "source": [
    "### Quantity vs Final Sale"
   ]
  },
  {
   "cell_type": "code",
   "execution_count": 22,
   "id": "da68d0ca",
   "metadata": {},
   "outputs": [
    {
     "data": {
      "image/png": "[encoded data removed]",
      "text/plain": [
       "<Figure size 432x288 with 1 Axes>"
      ]
     },
     "metadata": {
      "needs_background": "light"
     },
     "output_type": "display_data"
    }
   ],
   "source": [
    "sns.scatterplot(x='FINAL_QUANTITY', y='FINAL_SALE', data=trans_data)\n",
    "plt.title('Quantity vs Final Sale')\n",
    "plt.xlabel('Final Quantity')\n",
    "plt.ylabel('Final Sale')\n",
    "plt.show()\n"
   ]
  },
  {
   "cell_type": "markdown",
   "id": "27e62de4",
   "metadata": {},
   "source": [
    "### Top 10 Stores by Count"
   ]
  },
  {
   "cell_type": "code",
   "execution_count": 23,
   "id": "48e95896",
   "metadata": {},
   "outputs": [
    {
     "data": {
      "image/png": "[encoded data removed]",
      "text/plain": [
       "<Figure size 432x288 with 1 Axes>"
      ]
     },
     "metadata": {
      "needs_background": "light"
     },
     "output_type": "display_data"
    }
   ],
   "source": [
    "# Top 10 Stores by Count\n",
    "top_stores = trans_data['STORE_NAME'].value_counts().head(10)\n",
    "sns.barplot(x=top_stores.values, y=top_stores.index)\n",
    "plt.title('Top 10 Stores by Number of Purchases')\n",
    "plt.xlabel('Number of Purchases')\n",
    "plt.ylabel('Store Name')\n",
    "\n",
    "\n",
    "plt.show()\n"
   ]
  },
  {
   "cell_type": "code",
   "execution_count": 24,
   "id": "c934ee9d",
   "metadata": {},
   "outputs": [
    {
     "data": {
      "image/png": "[encoded data removed]",
      "text/plain": [
       "<Figure size 432x288 with 1 Axes>"
      ]
     },
     "metadata": {
      "needs_background": "light"
     },
     "output_type": "display_data"
    }
   ],
   "source": [
    "# Example: Daily purchase count over time\n",
    "trans_data['PURCHASE_DATE'] = pd.to_datetime(trans_data['PURCHASE_DATE'])\n",
    "daily_purchases = trans_data.groupby(trans_data['PURCHASE_DATE'].dt.date).size()\n",
    "daily_purchases.plot(kind='line', title='Daily Purchase Count')\n",
    "plt.xlabel('Date')\n",
    "plt.ylabel('Number of Purchases')\n",
    "plt.show()\n"
   ]
  },
  {
   "cell_type": "code",
   "execution_count": 25,
   "id": "eec03f4f",
   "metadata": {},
   "outputs": [
    {
     "name": "stdout",
     "output_type": "stream",
     "text": [
      "RECEIPT_ID ['0000d256-4041-4a3e-adc4-5623fb6e0c99'\n",
      " '0001455d-7a92-4a7b-a1d2-c747af1c8fd3'\n",
      " '00017e0a-7851-42fb-bfab-0baa96e23586' ...\n",
      " 'fffbb112-3cc5-47c2-b014-08db2f87e0c7'\n",
      " 'fffbfb2a-7c1f-41c9-a5da-628fa7fcc746'\n",
      " 'fffe8012-7dcf-4d84-b6c6-feaacab5074a']\n",
      "STORE_NAME ['WALMART' 'ALDI' 'FOOD LION' 'RANDALLS' 'TARGET' 'COSTCO'\n",
      " 'DOLLAR TREE STORES INC' 'FAMILY DOLLAR' 'KROGER' 'FOODS CO'\n",
      " 'REAES STORE' 'IGA' 'DOLLAR GENERAL STORE' 'PUBLIX' \"MACEY'S\" 'WALGREENS'\n",
      " 'CVS' 'WINCO FOODS' 'THE HOME DEPOT' 'FRED MEYER' 'MARKET BASKET'\n",
      " '7-ELEVEN' 'HOBBY LOBBY' 'GIANT EAGLE' 'HY-VEE' \"SAM'S CLUB\"\n",
      " 'WHISPERING PINES FRUIT FARMS' 'JEWEL OSCO' 'SHELL' 'NELES GRANACOT'\n",
      " \"TRADER JOE'S\" 'FIVE BELOW' 'GROCERY OUTLET BARGAIN MARKET' 'SMART SHOP'\n",
      " 'TINKEN AFB COMMIE' 'ALBERTSONS' 'LIDL' 'PHARMACY' 'WEIS' 'FASTRAC'\n",
      " 'RITE AID' 'MEIJER' 'COMMISSARY' 'FOODLAND' 'PAL CAMPO RESTAURANT'\n",
      " \"BJ'S WHOLESALE CLUB\" 'CARRS' 'SHOP RITE' 'PLAVERS CAFE LIDA'\n",
      " 'WINN-DIXIE' 'SAFEWAY' 'MI TIENDA' 'CIRCLE K' 'NUTS FACTORY 74TH'\n",
      " 'AMAZON' \"MARC'S\" 'WEGMANS' 'SCHNUCKS' 'FOOD DEPOT' 'BURGER KING' 'H-E-B'\n",
      " 'PIONEER SUPERMARKETS' 'KING SOOPERS' 'FESTIVAL FOODS' 'TJ MAXX'\n",
      " \"SMITH'S\" \"WOODMAN'S MARKET\" 'BRAVO SUPERMARKETS' 'GOMART' 'HANNAFORD'\n",
      " 'QFC' 'KWIK TRIP' 'MARKET' 'ACME' \"LOVE'S\" 'FOOD OUTLET' 'HARRIS TEETER'\n",
      " 'STAR MARKET' 'THE GIANT CO' 'GIANT FOOD' 'EXPRESS ROSES' 'PRICE CHOPPER'\n",
      " 'PAVILIONS' 'FOOD BAZAAR SUPERMARKET' 'JOHN DEERE HQ' 'FOOD CITY'\n",
      " 'RALPHS' 'PETCO' 'PONTE FRESCO' \"DILLON'S FOOD STORE\" 'PUEBLO'\n",
      " 'PICK N SAVE' 'PRESIDENTE SUPERMARKETS' 'MAIN STREET MARKET' 'FOOD FAIR'\n",
      " 'LA GLORIA SUPERMERCADO' 'FAREWAY' 'STOP & SHOP' 'FOOD 4 LESS' 'BIG LOTS'\n",
      " 'ENORTHGATE MARKET' 'YOUR DEKALB FARMERS MARKET' \"MARTIN'S SUPERMARKET\"\n",
      " 'PRIME TIME NUTRITION' 'THE FRESH MARKET' \"WITBECK'S FAMILY FOODS\"\n",
      " 'KEY FOOD FRESH' 'RIGGINS WATER WHITE MARKET'\n",
      " 'HIBACHI JAPANESE STK HOUSE' 'WAWA' 'TOPS MARKETS' 'SUNOCO'\n",
      " 'ROUSES MARKET' 'RABERS' \"REDNER'S MARKETS\" \"DAVE'S MARKETPLACE\"\n",
      " \"STEW LEONARD'S\" \"RALPH'S CAQUAS\" 'MARSHALLS' 'SUPERMERCADO TORRES'\n",
      " 'METRO MARKET' 'FOOD MAXX' \"BRAUN'S FOOD CENTER\" 'FARMERS SUPER MARKET'\n",
      " 'SUPERMAX' \"BUEHLER'S FRESH FOODS\" 'PIGGLY WIGGLY' 'SUPER SAVER'\n",
      " 'SUN MART FOODS' 'EXCHANGE' 'CUB FOODS' 'GAS N GO'\n",
      " \"JOHN'S GROCERY & HARDWARE\" \"RIESBECK'S FOOD MARKET\" \"SHAW'S\" 'GIANT'\n",
      " 'SAVE MART SUPERMARKETS' 'FLYING J' 'MC' 'GIANT FOOD STORE FUEL'\n",
      " 'PRICE CUTTER' 'COMPARE FOODS' 'STATER BROS' 'ANAZEH SANDS BILLIARDS'\n",
      " 'ULTA BEAUTY' 'SUPER 1 FOODS' 'TOM THUMB' 'SUPREMO FOOD MARKET'\n",
      " 'LA BONITA SUPERMARKETS' \"IT'SUGAR\" 'HOLIDAY MARKET' \"KING'S SUPERMARKET\"\n",
      " 'SPROUTS FARMERS MARKET' 'FOODTOWN' 'LUCKY SUPERMARKET'\n",
      " 'WHOLE FOODS MARKET' 'ZOOB ZIB THAI AUTHENTIC NOODLE BAR' 'OSCO'\n",
      " 'EL SUPER' 'SUPERMERCADOS SELECTOS' 'LOTTE PLAZA MARKET'\n",
      " 'VEGAS FOOD CENTER' 'FAIRPLAY' 'COSICO THOLESALE'\n",
      " 'INTERNATIONAL FOODMART' 'FOOD12' 'PATRICK AFB COMMISSARY' 'NI PUEBLO'\n",
      " 'SPEEDWAY' 'NORTHGATE MARKET' 'INGLES' 'STRACK & VAN TIL' 'BEL AIR'\n",
      " 'DOORDASH DELIV' 'COUNTY MARKET' \"FRY'S FOOD STORE\" 'SUPER FRESH'\n",
      " 'PAYLESS' 'SAVE A LOT' 'VONS' 'PALISADES' 'DOLLAR SAVER'\n",
      " 'MAI KET WE DO BEEF THE BEST ALBER TSONS MARKET THE BEST WE DO BEEF'\n",
      " 'JAY C FOOD STORES' 'LAZY ACRES' 'SHEETZ' \"BROOKSHIRE'S\" 'TIERMA'\n",
      " \"BASHAS'\" 'KWIK SHOP' 'ELGIN FRESH MARKET' 'RESTAURANT DEPOT'\n",
      " 'FRESCO Y MÁS' 'SMART & FINAL' 'THERRESDEROCER' 'MURPHY USA'\n",
      " \"BOYER'S  FOOD MARKET\" 'VALERO' 'CITY MARKET' 'SHOP N SAVE'\n",
      " 'CANARY ROOST' 'ME SALVE' 'KISMET BIALYS' \"MARIANO'S\" 'EXXON'\n",
      " 'AMAZONFRESH' 'COMMI5SARE' 'STAUFFERS OF KISSEL HILL'\n",
      " 'CARNICERIA POTOSINA' 'NT GIA' 'ING JEFE TACOSAR' 'KROGER FUEL'\n",
      " 'BARGAIN HUNT' 'ECONOFOODS' 'FOOD GIANT' 'PRICE UTTER' 'FIESTA MART'\n",
      " 'POPSHELF' 'NEW MORNING MARKET' 'WHOLESALE' 'LODE' '4 WAY MEAT MARKET'\n",
      " 'QUIKTRIP' 'HANCOCKS NEIGHBORHOOD MARKET' \"TEAL'S MARKET\"\n",
      " 'THE ATLANTIC HOTEL' 'KEY FOOD MARKETPLACE' 'DIERBERGS' 'PRICERITE'\n",
      " 'MODERN MARKET' 'SUPERCENTER' \"RIDLEY'S FAMILY MARKETS\" 'BELMONT MARKET'\n",
      " 'TOOU ORDG' 'COSTCO FUEL' \"BELACINO'S\" 'GRECIAN STEAKHOUSE'\n",
      " 'RRIENO SOUR A RALS LGROCERH' 'WBC HOB' 'GHUIRKS'\n",
      " \"LOWE'S HOME IMPROVEMENT\" '1AINTING CUSVAL BISTRO'\n",
      " 'SUN VALLEY FINE FOODS' 'AMVETS POST 11' 'VALLEY PHARMACY'\n",
      " 'NOB HILL FOODS' 'DOLLAD ENEROL' 'KTA SUPER STORES' 'BOJANGLES'\n",
      " \"TONY'S FRESH MARKET\" 'SEHERAL' 'BEAUTY SUPPLY' 'LA’BONNE’S MARKETS'\n",
      " 'TORT SAM TNTON COMMISSARY' 'FIVE BELOV' 'ALCT' 'MACS FRESH MARKET'\n",
      " 'SENTARA LEIGH DUTNATIENT' 'BIENVENIDOS MEXICAN RESTAURANT'\n",
      " 'RIVERVIEW FAMILY CENTER' 'ERMERCADOS SUPE MR. A PEG' 'FAST TRACK'\n",
      " 'SUPER SUPERMARKET' 'FRESH THYME MARKET' \"SLEEPERS' MARKET\" 'CENTER'\n",
      " 'SUPERMERCADOS ECONO' 'MACE YS ARKET' \"OWEN'S\" 'SALONCENTRIC'\n",
      " 'VALUEFRESH' 'CO COM' 'VALLARTA SUPERMARKETS' 'CF MARKS'\n",
      " \"CATTLEMAN'S ROADHOUSE\" 'EWAY SAR' 'AVI FOODSYSTEMS, INC.'\n",
      " 'THE FRESH GROCER' \"REASOR'S\" \"CHAPPELL'S HOMETOWN FOODS\" 'OMPE GFOODS'\n",
      " \"ANDRONICO'S COMMUNITY MARKETS\" 'RACETRAC' 'CAMIL/DOTLAR' 'ROSES'\n",
      " 'MENARDS' 'FLOWERS BAKING CO' 'NORTHWOODS WHOLESALE OUTLET' 'LEWER CSCO'\n",
      " 'DEFENSE COMMISSARY AGENCY' \"WEBSTER'S MARKETPLACE\" 'RIGGINS'\n",
      " 'MOSQUITO BOOKSLKOBUK TO GO' 'E W JAMES & SONS SUPERMARKETS'\n",
      " 'SUPERIOR GROCERS' \"CASEY'S GENERAL STORE\" 'CARDENAS'\n",
      " 'UNSHINE HSE HATH FOODS' \"KOHL'S\" \"BROULIM'S\" 'FRESH 4 LESS'\n",
      " 'MILLS FLEET FARM' 'ROCHE BROS. SUPERMARKET' 'ARMITAGE PRODUCE'\n",
      " 'OFFICE SUPPLIES DORADO SCHOOL &' \"NEEDLER'S FRESH MARKET\"\n",
      " 'GENERAL DISCOUNT' \"RALEY'S\" 'OUR PHARMACY' 'HUDSON'\n",
      " \"CASEL'S SUPERMARKET\" 'DILLONS COOC STORES' 'ESTRELLA SUPER MARKET'\n",
      " 'HOMETOWN GROCERY' 'MINT CO FO0 S' 'ASIA MARKET' \"DICK'S SPORTING GOODS\"\n",
      " \"J'S SALVAGE\" 'STAPLES' 'CREST FOODS' \"REONER'S\" 'GW SUPERMARKET'\n",
      " 'CASH WISE' 'RU' 'ROCHITA PLAZA MARK' 'LVERYONE'\n",
      " 'FORT JACKSON COMMISSARY' 'EAMTLY RESTAURANT' 'PRICELESS FOODS' 'AL'\n",
      " 'CASH SAVER' 'EATALY' \"MIKE'S DISCOUNT FOODS\" 'AMIGO'\n",
      " 'DISCOUNT DRUG MART' 'SUPER DISCOUNT TOBACCO' 'MERCHANT COU'\n",
      " \"DETWILER'S FARM MARKET\" 'FIESTA FOODS' 'BETHPAGE PHARMACY'\n",
      " 'SODLE PHARMACY' 'H MART' 'NAM DAE MUN FARMERS MARKET' \"FROOGEL'S\"\n",
      " 'THRIFTY PRODUCE & MEAT' 'RHODES FAMILY PRICE CHOPPER' 'LOWES FOODS'\n",
      " 'MARKET STREET' \"MOSER'S DISCOUNT FOODS\" 'SPARKLE MARKET'\n",
      " \"JUNGLE JIM'S INTERNATIONAL MARKET\" 'HARPS FOOD STORES' 'TOP TOMATO'\n",
      " \"FRESH N' LOW\" 'SCHEDULE & SAVE' 'SCHOFIELD BARRACKS COMMISSARY'\n",
      " 'TOTAL WINE & MORE' 'CHICK-FIL-A' 'GREAT GIANT SUPERMARKET'\n",
      " 'GERBES SUPER MARKETS' \"CROSBY'S\" 'VIET HOA INTERNATIONAL FOODS'\n",
      " 'TORO DE ORO MARKET' 'MART' 'TOTOPOS MEXICAN GRILL' 'CINEMARK THEATRES'\n",
      " 'LOS AZTECAS' 'MARKET 32' 'DSALONCENTRID' 'SHOP FAIR SUPERMARKETS'\n",
      " 'NEIGHBORHOOD DISCOUNT SUPERMARKET' 'BIG Y WORLD CLASS MARKET'\n",
      " 'C TCO LESALE WHO' \"PETE'S MARKET\" 'POULEVARU' 'C&C CANDIES' \"DODGE'S\"\n",
      " 'MD ORIENTAL MARKET' 'DRIVE-IN RESTAURANT JUSTRITE' \"TRIG'S\"\n",
      " 'JACKSONVILLE NAS COMMISSARY' \"RU'S\" 'THE OAK CUPBOARD' 'TEK MARKETS'\n",
      " \"SCHIEL'S FAMILY MARKET\" 'SHOPPERS' \"BAKER'S\"\n",
      " \"SAITO'S JAPANESE STEAKHOUSE\" 'COUNTRY MART' 'TRADE FAIR SUPERMARKET'\n",
      " 'PILOT' 'MARTINDALES NATURAL' 'MARKETPLACE FOODS' 'LUNDS & BYERLYS'\n",
      " \"WOME'S\" \"CARALUZZI'S MARKET\" 'BIG DEAL OUTLET' 'CONOCO' 'MART WALR'\n",
      " 'ROYAL FARMS' 'LIHE HORSESHOB' 'DILLONS FUEL' \"WOODMAN'S FUEL\"\n",
      " 'SUNSET FOODS' 'PATRIOT STORE' 'STOLE25' 'SUPER BRAYD'\n",
      " \"SCHNEIDER'S MARKET\" 'BROOKSHIRE BROTHERS' 'EL INDIO - MANCHESTER'\n",
      " 'H. YANIRIS' \"SON'S PARRISH\" 'FRESH FOODS' 'SELEDLOS BE TODO/AGUSTO'\n",
      " \"GERRITY'S SUPERMARKETS\" 'NELLIS AFB COMMISSARY' \"HORNBACHER'S\"\n",
      " 'COUNTRY MARKET INC.' 'YOODS CY' \"PATON'S MARKET PLACE\"\n",
      " 'APPLES GROCERY STORE' 'COMMUNITY MARKETS' \"UNCLE GIUSEPPE'S MARKETPLACE\"\n",
      " \"CONCESSI'S FURO MARKET\" \"MICHAEL'S\" 'OCRACOKE VARIETY'\n",
      " 'BOONEVILLE SHOPWISE' 'KARNS QUALITY FOODS' 'PENN SPARKLE'\n",
      " \"DE' FRESH MARKET\" 'SHOP A LOTT' 'PONTS FRESCO' 'ROYALS LIQUOR'\n",
      " 'THE TURN CLUB' 'FAMILY FARE SUPERMARKETS' 'TYNDALL AFB COMMISSARY'\n",
      " 'ST LUKES OUTPATIENT' 'RMERCADOS SUPER MRO PEOA' 'CHEVRON'\n",
      " '10BOX COST-PLUS' 'A CME DURP SUPERAK' 'DEJAN' 'FOOD KING'\n",
      " \"RIC'S FOOD CENTER\" 'NEW ASIA SUPERMARKET' 'PIER17'\n",
      " 'FINE FARE SUPERMARKET' 'KING KULLEN' \"BUDDY'S CRABHOUSE OYSTER BAR\"\n",
      " \"OZZIE'S FRESH MARKET BY FOOD UNIVERSE\" 'MARKET FRESH' 'THE BACK FORTY'\n",
      " 'FIRELAKE EXPRESS GROCERY' 'ACE HARDWARE' 'FRESHCO'\n",
      " 'HOSPITAL DRIVE PHARMACY' 'CHERRY VALLEY MARKETPLACE' 'JR FOOD'\n",
      " 'WESTERN BEEF' \"RALEY'S SERVICE CENTER AT\" 'TACO RIO' 'JCPENNEY'\n",
      " 'FOODARAMA' 'AR DISNEY WORLD.' 'SUPERMERCADO NAPO VELEZ'\n",
      " 'NAVARRO DISCOUNT PHARMACIES' 'SIESCA' 'SHOPPERS VALUE FOODS'\n",
      " 'BAPTIST HEALTH' 'HARVEYS SUPERMARKET' 'KINNEUDRUGS' 'WHITE & CASE CAFE'\n",
      " 'LA PANZA FELIZ' 'SES MOO MARKET' 'LA FRONTERA' \"IL''S WHIOLESALE CLUB\"\n",
      " 'MARATHON' 'KWIK FILL' 'KWIK STAR' 'SSARY COMMI' \"DICK'S\"\n",
      " 'CHANGSFOOD2020' 'CRE ST FOODS' 'WOODEN NICKEL'\n",
      " 'BUFORD HIGHWAY FARMERS MARKET' \"K ENT 'S MARKE\" 'HARTIG' 'NORDSTROM'\n",
      " 'FOOD ZONE' \"BRAUM'S ICE CREAM AND DAIRY STORES\" 'WWW.SHOPMAR MARVE'\n",
      " 'SPIRITS' 'FORT BUCHANAN COMMISSARY' 'HOMELAND' 'FARM FRESH' 'ALTA'\n",
      " 'FREAMEYER' 'SES 00 W MARKET' 'LEPPINKS FOOD CENTERS'\n",
      " \"SCHULTE'S FRESH FOODS\" 'LA MICHOACANA'\n",
      " 'THE S HHANT OR 2010 MMILY RN /TAVES' 'HOLIDAY STATIONSTORE' 'SHORT STOP'\n",
      " 'SAN DIEGO NB COMMISSARY' '/MART' 'BIG SAVER FOODS'\n",
      " \"GORDON'S SELECT MARKET\" 'ARIES SUPERMARKET' 'PEPPERIDGE FARM'\n",
      " 'SCOTT AFB COMMISSARY' 'FESTIT AL' \"CLULS SAM'S\" 'VENTURE FOODS'\n",
      " \"LAURA'S PHARMACY\" 'MOUNT AIN SUPER FRESH MARKET' 'FARMACIA CORCOVAPA'\n",
      " 'THE HALF WALL BEER HOUSE' \"HELEN'S OF ELLSWORTH\" 'EXPRESS LANE'\n",
      " 'TOWN & COUNTRY SUPERMARKET' 'APERMERCADOSS MRS PORQUE TU ARUS ESCOCININ'\n",
      " 'YALLAH TACO' 'SUMMA HEALTH' 'SELLERS BROS' \"BUTCHER'S BREWHUIS\" 'STORE'\n",
      " 'UNITED SUPERMARKETS' 'HARRIS TEETER FUEL' \"CHAMPAGNE'S MARCHE\"\n",
      " 'WESTERN UNION' 'THE FRIDGE' 'H.F DOLLAR & UP' 'CORRAL'\n",
      " 'CERMAK FRESH MARKET' 'AZUCAR CUBAN CUISINE' 'SE ECTOS'\n",
      " 'TROYER COUNTRY MARKET' \"WOODRUFF'S MARKET\" 'NEW HEIGHTS GRILL'\n",
      " 'JHYRANI L- SUPER' 'UNIVERSITY AVENUE MARKET' 'ALPINE MARKETPLACE'\n",
      " 'SUNSHINE FOODS' \"LOWE'S MARKET\" \"BUC-EE'S\" 'VITACOST'\n",
      " 'LAKEWOOD SUPERVALU' 'BOTTOMS UP WINE  LIQUOR' 'HOLIDAY OIL'\n",
      " 'LA PLACITA SUPERMARKET' \"JOHNSON'S FOOD\" 'M & W MARKET' 'RISK'\n",
      " 'LIBERTY MARKET' 'MAYPORT NS COMMISSARY' \"BENNETT'S PIT BBQ-GATLINBURG\"\n",
      " 'AT RED HAWK RESORT  CASINO' 'TRANSACTION RECEIPT' 'MANET' 'BP'\n",
      " 'TIENDA EL PAISANO' 'CTOWN SUPERMARKETS' 'NORTHOATE 22 KKET'\n",
      " 'DANDY MINI MART' 'JONS INTERNATIONAL MARKETPLACE' 'SUPER' 'PETSMART'\n",
      " 'DOLLAR KING' 'AUSABLE INN' 'MET FOODMARKETS' 'CAMP PENDLETON COMMISSARY'\n",
      " 'SUPERVALU FOODS' \"CLARK'S MARKET\" 'HORNINGS OF' 'R P DY'\n",
      " 'FOOD DALESS PREE' 'THE ROOF' 'THE MARKET AT BIRCH BAY'\n",
      " 'LA FIESTA SUPERMARKETS' \"BROOKSHIRE'S FOODA PHARMACY\" 'FARMACIA CARIDAD'\n",
      " 'MEYER' 'CANTORO ITALIAN MARKET' 'DIAMONDSCAN' 'FOOD RAN' 'B'\n",
      " \"BERKOT'S SUPER FOODS\" 'EXPRESS' 'LONGS DRUGS' \"PHO KITCH'N\" 'SEPHORA'\n",
      " 'STKES FRACH FOODE' 'STRIPES' \"KESSLER'S FOOD & LIQUOR\"\n",
      " 'SUPERDESCUENTOS MORALES INC' 'THE OAKS GRILLE' 'QUALITY MARKET'\n",
      " 'FOID STORES' 'GLACT' 'Y DULCERIA LA BONITA PALETERIA'\n",
      " 'BEAUTY OUTLET OF HAMPTON' 'LOL' 'CURAAR SHOPPING CANTER' 'FISH HOUSE'\n",
      " 'S AVEIAL' 'KING SOOPERS FUEL' 'DVERS1OCK DISCOUNT CNTR'\n",
      " 'SEAFOOD CITY SUPERMARKET' \"JUNIOR'S SUPERMARKET\"\n",
      " 'FORT NOVOSEL COMMISSARY' 'DOG STREET' 'TELWAY' 'LA CONFIANZA'\n",
      " 'BREAK TIME' 'FOOD FAIR SUPERMARKET' 'THE TRUE LOW PRICE LEADER'\n",
      " 'THORNTONS' 'APP LE MARKET' 'ALOHA FROM BLIND VENDORS' 'NICHOLASYILLE'\n",
      " 'BAILEYS PRODUCE & NURSERY' 'ADAMS FAIRACRE FARMS' 'ALBERGUE OLIMPICO'\n",
      " 'CARNICERIA LOS DOS RIOS' 'EL CABRITO MEXICAN RESTAURANT' 'S DRN MY'\n",
      " 'MAPCO MART' 'TART TINS' 'MONONGAHELA' \"K'S BESTWAY GROCERY\"\n",
      " 'MARINE CORPS EXCHANGE' 'PHILLIPS 66' 'ALOME CINEMA GRILL'\n",
      " 'FANCY FRUIT & PRODUCE' 'KUM & GO' \"SEDANO'S\" 'ALAYO'\n",
      " \"R REDNER'S SINCE 1976\" 'PRESTON FOODS' 'TINKER COMMISsARY'\n",
      " 'ASIAN HARBOR' 'GASOLINE ALLEY' 'VALLEY FOOD SUPERMARKET' 'ELA VIR BE'\n",
      " 'PITT STOP' \"F OOD TORES RY'S\" 'BOOTLEGGERS LIQUOR OUTLET' 'PARALARRIS'\n",
      " 'EREWHON MARKET' 'WTHOGANS' \"STEWART'S MARKETPLACE\"\n",
      " \"FRANK'S FRESH MARKET\" 'FORT MCCOV COMMISSARY' 'FUEL CITY' 'URB. CUIDAD'\n",
      " 'SGROCERY & VARIETY-' 'RULER FOODS' 'COLUMBIA ORTHOPA' 'HY MMPLOYEECWNID'\n",
      " 'DILLONS 7OO STUBES' 'HU VEE EHPLOVER CUNED' 'GREEN HILLS FARM'\n",
      " 'PATEL BROTHERS' 'BI-MART' 'SPINX' \"ALLSUP'S\" 'MEXICO MARKET'\n",
      " 'NORTHOATE MARKETR' 'SAV-A-LOT CENTERS NUTRITION' 'MONONGAHELA HOSPITAL'\n",
      " \"QUINN'S SUPER MARKET\" 'FIESTA GRANDE' 'SAV-ON PHARMACY'\n",
      " 'FAIRPLAY FINER FOODS' 'GET-GO' 'BASKET ARKET' \"FRY'S FOOD AND DRUG FUEL\"\n",
      " 'CARNICERIA GONZALEZ' 'EDWARDS FOOD GIANT' 'OMC SMOKEHOUSE' \"HUGO'S\"\n",
      " 'CITY FRESH MARKET' 'SHCOTOS' 'CEE BEE FOOD STORE'\n",
      " 'WEEMERS DISCOUNT GROCERIES' 'HAWES MMARKETH' 'DISTRICT MARKET'\n",
      " 'BIG BOSS BIG BOSS' 'MINARE' 'FOOD WORLD SUPERMARKET' 'URBAN PIE'\n",
      " 'CUMBERLAND FARMS' 'BROTHERS FOOD MARKET' 'OVAL SUPERA' 'PEN MART,'\n",
      " 'WAIMA' \"R REDNER'S 1970\" 'LEWIS DRUG' 'WEE' \"RU MEASUR'A\"\n",
      " 'ASTAN FOOD MAK' 'BLISS BEAUTY SUPPLY' \"HATILLO KASH N' KARRY\" \"MACY'S\"\n",
      " 'GROCERY' 'GLENWOOD FOODS' 'IPHARMACY' 'STOTER R BROS MARKETS'\n",
      " 'HARPS MOMETOWN FRE4M' 'ALAYOS' 'KHOUT' 'MI RANCHO SUPERMARKET'\n",
      " 'MAEEYS HOPPY' \"HORNING'S MARKET OF BETHEL\" 'NBK BANGOR COMMISSARY'\n",
      " 'FODD WLESS' 'PLAZA LIQUORS' 'EL RIO GRANDE' 'BLUE SUNERESH' \"WENDY'S\"\n",
      " 'THE FOOD EMPORIUM' \"OLLIE'S BARGAIN OUTLET\" 'CENEX' 'MI PUEBLO'\n",
      " 'DORITOS SS BOGO' 'THERRESNEROCER' 'LIQUOR & CONVENIENCE STORE'\n",
      " 'TERRY DRUGS' 'TARJET' 'HOMETOWN FOODS' 'BEAUTY EXCHANGE' 'PHARMAMAX'\n",
      " 'SUNFLOWER' \"ARMANDO'S SUPERMARKET\" 'F RY' 'DECICCO FAMILY MARKETS'\n",
      " 'HANSCOM COMMISSARY' 'HOMETOWN 15' 'FRESH VALUE'\n",
      " 'JOLLA BELLA BEAUTY SUPPLY' 'EL RANCHO SUPERMERCADO' 'LOT-LESS CLOSEOUTS'\n",
      " \"ANGELI'S CENTRAL MARKET\" 'FOODWAY' 'COPPS' 'EL MOLCAJETE LOCO'\n",
      " 'MARKETON' 'BAINBOW GROCERY' 'HANDY PANTRY' 'WILDFIRE'\n",
      " 'BUTLER FARM MARKET' \"DAN'S SUPERMARKET\" 'HACKENSACK MARKET'\n",
      " 'ORD COMMUNITY COMMISSARY' 'SARASWATI 1 INC' \"BELL'S FOOD STORE\"\n",
      " 'EMART ISMEN' 'AUTOZONE' 'OLD NAVY' \"JANE'S PHARMACY\"\n",
      " 'HARPS MOMHTCWH PBKS' 'INCO FOODS' 'SURPLUS OUTLET' \"JOE V'S SMART SHOP\"\n",
      " 'ALQI' 'TL FES VEY' 'FRESH WORLD' 'FOOD STORES' 'TOM WIML' 'FOOD RITE'\n",
      " 'DUANE READE' \"ROOHE'S IGN MAXCICLACE\" 'SSARY COMMI INCY'\n",
      " 'WALNUT CREEK CHEESE' 'CONMONIENCE' 'SAR' 'ANDERSEN AFB' 'MAXWAY'\n",
      " 'KSHO2, INC' \"RAMEY'S MARKETPLACE\" 'SOVAELAFTA' 'PATA NEGRA'\n",
      " 'AZTECA SUPERMERCADO' '99 CENTS ONLY STORES'\n",
      " 'VILLAGE SOAP CO. KITCHEN KETTLE VILLAGE' 'GROCERY MART'\n",
      " 'RRIS TEETER HAT NEIOHBORHOOD MARKET' 'PIC PAC SUPERMARKET' 'COST LE5S'\n",
      " \"GREEN'S\" \"GENO'S SPORTS BAR AND GRILL\" 'LOAF N JUG' 'SFIC.'\n",
      " 'SBER S COUNTA STORE BULK FOOD' \"ELROD'S COST PLUS\" 'AT HOME'\n",
      " 'SHORTONE MARKET' 'MAVERIK' 'BEAUTY DEPOT' 'HEBOES WEST' 'CHY' \"HEINEN'S\"\n",
      " 'NORTH SHORE FARMS' 'DREAM MARKET' 'SOOPER' \"DICKEY'S BARBECUE PIT\"\n",
      " 'COST LESS FOOD COMPANY' 'BESTWAY SUPERMARKET' 'SUPER MERCADO MEXICO'\n",
      " 'SUPERMERCADOS MR. SPECIAL' \"BUTCHER'S GRILLE\" 'FARMERS' '7TH HEAVEN'\n",
      " 'BANLAFOR' 'MILLERS WHERE COSTS S YOU LESS' \"ANAYA'S MARKET\" 'RN EFOO'\n",
      " 'SPRIROFIALS' 'FATRVTEW PHARMACY' 'INHNITY CARE' 'GOODWILL'\n",
      " 'NYC FRESH MARKET' 'ANPOCNMNA' 'STOM LAMIARDS' 'GRANTS SUPERMARKET'\n",
      " 'CHEF CHEN ASIAN CUISINE' 'R-N MARKET' 'PANINIS' 'MISS MAMIES' \"WEIGEL'S\"\n",
      " 'EL-DCE' \"ETWILER'S FARM MARKET FRESH FOR LESS\"\n",
      " \"SHERM'S THUNDERBIRD MARKET\" 'JUST SAVE FOODS' \"HUGO'S FAMILY PHARMACY\"\n",
      " 'RATON TRUCK STOP' 'FORT STEWART COMMISSARY' 'ELK COUNTY FOODS'\n",
      " 'VIGROCEE' 'CAMP LEJEUNE MCB COMMISSARY' 'CONTINENTAL MIDTOWN'\n",
      " 'WAIANAE STORE' 'ASSOCIATED SUPERMARKET' '57 BAYARD STREET'\n",
      " 'GLENWOOD FOODS AT GREENCASTLE' 'SUPER MERCADO MONTERREY'\n",
      " 'BELEVILLE PHARMACY' 'NOGALES LLC MARKET' 'MELROSE FAMILY FASHIONS'\n",
      " \"WALT CHURCHILL'S MARKET\" 'EL SOL MEAT MARKET' 'FOOD MARKET LA CHIQUITA'\n",
      " 'OSCEOLA FOOD MART' 'BEMGAORS' 'FORT MYER COMMISSARY'\n",
      " 'DELISH NEW AMERICAN GRILL' 'LOCUST VALLEY MARKET' 'FOOD BASKET'\n",
      " 'BURKES OUTLET' \"BB'S GROCERY OUTLET\" \"FSCARFALLOTO' HOMETOWN MARKET\"\n",
      " 'DRIVE YHRU' 'CANNON AEB COMMISSARY' 'FINE WINE & SPIRITS STORES'\n",
      " \"DOUG'S SUPERMARKET\" 'OUTLET BEAUTY SUPPLY' 'FOOD DYNASTY' 'PIC-PAC'\n",
      " 'WOODS SUPERMARKET' 'WINGCRAFT' 'WEAVER MARKETS' 'FARMACIAS PLAZA'\n",
      " 'MIDWEST' 'THRIVE MARKET' 'CITGO' 'PETRO SERVE USA' 'STOOKEY MART'\n",
      " 'EL REY SUPER FOODS' 'RT 10 FARMERS MARKET' \"SENDIK'S FOOD MARKET\"\n",
      " 'WHISKEY RANCH' \"SAM'S FARMERS MARKET\" 'NU CASSEL PHARMACY' 'P PHARMACU'\n",
      " 'AMERIMART' 'QUIKSTOP' 'KINNEY DRUGS' \"INCOLLINGO'S FAMILY MARKET\"\n",
      " \"JIMMY'S STEAKOUT\" 'GREAT WALL SUPERMARKET' 'BNDGE STREET PHARMACY IC'\n",
      " \"KUHN'S MARKET\" 'BOTTLE KING' 'TARERMARKET' 'MEKONG SUPERMARKET'\n",
      " 'S RESTAURANTS' 'FOOD LESS THE TRUE LAW' 'TOWN & COUNTRY FOODS'\n",
      " \"COBORN'S\" 'ALAYSOO' 'GORDON FOOD SERVICE STORES' 'SAV MOR FOODS'\n",
      " 'TOWN & COUNTRY' 'P&L COUNTRY MARKET' 'GIAST' \"PARKER'S KITCHEN\"\n",
      " 'CULEBRA MEAT MARKET' \"LANDI'S SUPERMARKET\" 'SUPERMARKETS'\n",
      " 'MI TIERRA SUPERMERCADO' 'THOMAS MARKET' 'EL MARIACHI RESTAURANT' 'SPAGO'\n",
      " 'ASIAN MARKET' 'TRAVELCENTERS OF AMERICA' 'MARSEILLES FAMILY RESTAURANT'\n",
      " \"HERBIE'S BURGERS\" \"SEITTER'S MARKET\" \"MCKEEVER'S MARKET & EATERY\"\n",
      " 'NEW WEST ZONE SUPERMARKET' \"MANAFORD'S\" 'SUPER MERCADOS EL GUERO'\n",
      " 'RELECIOS A/MEOR PRECIOR' 'THE MARINERS' 'BLACK BEAR BAR & GRILL'\n",
      " 'MARKETPLACE' 'CHAR&LEMON' 'FUNCTIONOFBEAUTY.COM' 'EL CHURRASCASO, GRILL'\n",
      " 'ONE STOP' 'HURLBURT FIELD COMMISSARY' 'POPEYES' 'STOTER BROS'\n",
      " \"TOM'S FOOD MARKETS\" 'RULLI BROS' 'CAPRI' 'TARMACIA SAN ANTONIO' 'SOMA'\n",
      " 'AG PIZZA' 'FORT CARSON COMMISSARY' \"ALACURT'S\" 'REDMEYER'\n",
      " 'PENNY PINCHERS' 'YESWAY' 'PHARMAMAY CABO RJO' 'MERCATE'\n",
      " \"BUSCH'S FRESH FOOD MARKET\" 'MCX' \"JACK'S MARKET\" 'ASHOPPERS'\n",
      " 'TO GO STORE' 'FOOD COUNTRY USA' 'PLATEAU TRAVEL CENTER']\n",
      "USER_ID ['63b73a7f3d310dceeabd4758' '62c08877baa38d1a1f6c211a'\n",
      " '60842f207ac8b7729e472020' ... '6254a7ea3f2afd3c2fd53d22'\n",
      " '5eb887f71699c213b1abe2e1' '62a0c8f7d966665570351bb8']\n"
     ]
    }
   ],
   "source": [
    "#understanding possible value for categorical data columns\n",
    "for feature in trans_data.columns:\n",
    "    if trans_data[feature].dtype==object:\n",
    "        print(feature,  trans_data[feature].unique())"
   ]
  },
  {
   "cell_type": "markdown",
   "id": "2d07e6c4",
   "metadata": {},
   "source": [
    "Observation: \n",
    "\n",
    "1. The FINAL_QUANTITY column contains numeric values stored as strings (e.g., '1.00', '2.00') along with non-numeric values like 'zero'. All values in this column should be numeric, and \"zero\" should be standardized to 0.00\n",
    "\n",
    "2. The FINAL_SALE column contains empty strings (' '), which likely represent missing values. These should either be converted to NaN or another appropriate missing value indicator to handle them properly during analysis.\n",
    "\n",
    "3. The SCAN_DATE column contains specific timestamps down to milliseconds (e.g., '2024-08-21 14:19:06.539 Z'). Both PURCHASE_DATE and SCAN_DATE have to be stored in a standardized date format (e.g., YYYY-MM-DD).\n",
    "\n",
    "4. There are 25,560 duplicate RECEIPT_IDs, which is a significant portion of the total records (out of 50,000 records). This require further investigation to understand the reason why there is such a high number of duplicate RECEIPT_IDs. \n",
    "Further investigations are necessary to understand whether this is an expected behavior in the app(resubmission of receipts), a data quality issue or an indicator of potential abuse. \n",
    "\n",
    "5. In PURCHASE_DATE and SCAN_DATE Columns, some rows(94) have the scan date occuring before the purchase date, which would indicate a data issue. \n"
   ]
  },
  {
   "cell_type": "code",
   "execution_count": 26,
   "id": "851ab62a",
   "metadata": {},
   "outputs": [],
   "source": [
    "#dropping rows where barcode is empty or null\n",
    "trans_data = trans_data[trans_data['BARCODE'].notna() & (trans_data['BARCODE'] != '')]\n",
    "# Save the file back with the updated format\n",
    "trans_data.to_csv(\"trans_data_cleaned.csv\", index=False)\n"
   ]
  },
  {
   "cell_type": "markdown",
   "id": "d601a80d",
   "metadata": {},
   "source": [
    "## 3. Product Dataset"
   ]
  },
  {
   "cell_type": "code",
   "execution_count": 27,
   "id": "8dc1fbd4",
   "metadata": {},
   "outputs": [
    {
     "data": {
      "text/html": [
       "<div>\n",
       "<style scoped>\n",
       "    .dataframe tbody tr th:only-of-type {\n",
       "        vertical-align: middle;\n",
       "    }\n",
       "\n",
       "    .dataframe tbody tr th {\n",
       "        vertical-align: top;\n",
       "    }\n",
       "\n",
       "    .dataframe thead th {\n",
       "        text-align: right;\n",
       "    }\n",
       "</style>\n",
       "<table border=\"1\" class=\"dataframe\">\n",
       "  <thead>\n",
       "    <tr style=\"text-align: right;\">\n",
       "      <th></th>\n",
       "      <th>CATEGORY_1</th>\n",
       "      <th>CATEGORY_2</th>\n",
       "      <th>CATEGORY_3</th>\n",
       "      <th>CATEGORY_4</th>\n",
       "      <th>MANUFACTURER</th>\n",
       "      <th>BRAND</th>\n",
       "      <th>BARCODE</th>\n",
       "    </tr>\n",
       "  </thead>\n",
       "  <tbody>\n",
       "    <tr>\n",
       "      <th>0</th>\n",
       "      <td>Health &amp; Wellness</td>\n",
       "      <td>Sexual Health</td>\n",
       "      <td>Conductivity Gels &amp; Lotions</td>\n",
       "      <td>NaN</td>\n",
       "      <td>NaN</td>\n",
       "      <td>NaN</td>\n",
       "      <td>7.964944e+11</td>\n",
       "    </tr>\n",
       "    <tr>\n",
       "      <th>1</th>\n",
       "      <td>Snacks</td>\n",
       "      <td>Puffed Snacks</td>\n",
       "      <td>Cheese Curls &amp; Puffs</td>\n",
       "      <td>NaN</td>\n",
       "      <td>NaN</td>\n",
       "      <td>NaN</td>\n",
       "      <td>2.327801e+10</td>\n",
       "    </tr>\n",
       "    <tr>\n",
       "      <th>2</th>\n",
       "      <td>Health &amp; Wellness</td>\n",
       "      <td>Hair Care</td>\n",
       "      <td>Hair Care Accessories</td>\n",
       "      <td>NaN</td>\n",
       "      <td>PLACEHOLDER MANUFACTURER</td>\n",
       "      <td>ELECSOP</td>\n",
       "      <td>4.618178e+11</td>\n",
       "    </tr>\n",
       "    <tr>\n",
       "      <th>3</th>\n",
       "      <td>Health &amp; Wellness</td>\n",
       "      <td>Oral Care</td>\n",
       "      <td>Toothpaste</td>\n",
       "      <td>NaN</td>\n",
       "      <td>COLGATE-PALMOLIVE</td>\n",
       "      <td>COLGATE</td>\n",
       "      <td>3.500047e+10</td>\n",
       "    </tr>\n",
       "    <tr>\n",
       "      <th>4</th>\n",
       "      <td>Health &amp; Wellness</td>\n",
       "      <td>Medicines &amp; Treatments</td>\n",
       "      <td>Essential Oils</td>\n",
       "      <td>NaN</td>\n",
       "      <td>MAPLE HOLISTICS AND HONEYDEW PRODUCTS INTERCHA...</td>\n",
       "      <td>MAPLE HOLISTICS</td>\n",
       "      <td>8.068109e+11</td>\n",
       "    </tr>\n",
       "  </tbody>\n",
       "</table>\n",
       "</div>"
      ],
      "text/plain": [
       "          CATEGORY_1              CATEGORY_2                   CATEGORY_3  \\\n",
       "0  Health & Wellness           Sexual Health  Conductivity Gels & Lotions   \n",
       "1             Snacks           Puffed Snacks         Cheese Curls & Puffs   \n",
       "2  Health & Wellness               Hair Care        Hair Care Accessories   \n",
       "3  Health & Wellness               Oral Care                   Toothpaste   \n",
       "4  Health & Wellness  Medicines & Treatments               Essential Oils   \n",
       "\n",
       "  CATEGORY_4                                       MANUFACTURER  \\\n",
       "0        NaN                                                NaN   \n",
       "1        NaN                                                NaN   \n",
       "2        NaN                           PLACEHOLDER MANUFACTURER   \n",
       "3        NaN                                  COLGATE-PALMOLIVE   \n",
       "4        NaN  MAPLE HOLISTICS AND HONEYDEW PRODUCTS INTERCHA...   \n",
       "\n",
       "             BRAND       BARCODE  \n",
       "0              NaN  7.964944e+11  \n",
       "1              NaN  2.327801e+10  \n",
       "2          ELECSOP  4.618178e+11  \n",
       "3          COLGATE  3.500047e+10  \n",
       "4  MAPLE HOLISTICS  8.068109e+11  "
      ]
     },
     "execution_count": 27,
     "metadata": {},
     "output_type": "execute_result"
    }
   ],
   "source": [
    "#reading the first 5 lines of product dataset\n",
    "prod_data.head() "
   ]
  },
  {
   "cell_type": "code",
   "execution_count": 28,
   "id": "2e813edd",
   "metadata": {},
   "outputs": [
    {
     "name": "stdout",
     "output_type": "stream",
     "text": [
      "<class 'pandas.core.frame.DataFrame'>\n",
      "RangeIndex: 845552 entries, 0 to 845551\n",
      "Data columns (total 7 columns):\n",
      " #   Column        Non-Null Count   Dtype  \n",
      "---  ------        --------------   -----  \n",
      " 0   CATEGORY_1    845441 non-null  object \n",
      " 1   CATEGORY_2    844128 non-null  object \n",
      " 2   CATEGORY_3    784986 non-null  object \n",
      " 3   CATEGORY_4    67459 non-null   object \n",
      " 4   MANUFACTURER  619078 non-null  object \n",
      " 5   BRAND         619080 non-null  object \n",
      " 6   BARCODE       841527 non-null  float64\n",
      "dtypes: float64(1), object(6)\n",
      "memory usage: 45.2+ MB\n"
     ]
    },
    {
     "data": {
      "text/plain": [
       "(None, (845552, 7))"
      ]
     },
     "execution_count": 28,
     "metadata": {},
     "output_type": "execute_result"
    }
   ],
   "source": [
    "#data overview\n",
    "prod_data.info(), prod_data.shape"
   ]
  },
  {
   "cell_type": "code",
   "execution_count": 29,
   "id": "f2dfcbc1",
   "metadata": {},
   "outputs": [
    {
     "data": {
      "text/plain": [
       "CATEGORY_1         111\n",
       "CATEGORY_2        1424\n",
       "CATEGORY_3       60566\n",
       "CATEGORY_4      778093\n",
       "MANUFACTURER    226474\n",
       "BRAND           226472\n",
       "BARCODE           4025\n",
       "dtype: int64"
      ]
     },
     "execution_count": 29,
     "metadata": {},
     "output_type": "execute_result"
    }
   ],
   "source": [
    "#checking for missing values\n",
    "prod_data.isnull().sum()"
   ]
  },
  {
   "cell_type": "code",
   "execution_count": 30,
   "id": "f7b1ffbb",
   "metadata": {},
   "outputs": [
    {
     "name": "stdout",
     "output_type": "stream",
     "text": [
      "CATEGORY_1 ['Health & Wellness' 'Snacks' 'Beverages' 'Pantry' 'Alcohol'\n",
      " 'Apparel & Accessories' 'Restaurant' 'Needs Review' 'Dairy'\n",
      " 'Home & Garden' nan 'Household Supplies' 'Meat & Seafood' 'Deli & Bakery'\n",
      " 'Sporting Goods' 'Produce' 'Office & School' 'Frozen'\n",
      " 'Arts & Entertainment' 'Animals & Pet Supplies' 'Electronics' 'Beauty'\n",
      " 'Toys & Games' 'Mature' 'Vehicles & Parts' 'Baby & Toddler'\n",
      " 'Luggage & Bags' 'Media']\n",
      "CATEGORY_2 ['Sexual Health' 'Puffed Snacks' 'Hair Care' 'Oral Care'\n",
      " 'Medicines & Treatments' 'Deodorant & Antiperspirant' 'Snack Bars' nan\n",
      " 'Bath & Body' 'Nuts & Seeds' 'Candy' 'Cookies' 'Variety Snack Packs'\n",
      " 'Hair Removal' 'Medical Supplies & Equipment' 'Chips' 'Snack Cakes'\n",
      " 'Skin Care' 'Dessert Toppings' 'Eye Care' 'Fruit & Vegetable Snacks'\n",
      " 'Snack Mixes' 'Crackers' 'Jerky & Dried Meat'\n",
      " 'Topical Muscle & Joint Relief Treatments' 'Foot Care' 'First Aid'\n",
      " 'Ear Care' 'Menstrual Care' 'Pretzels' 'Trail Mix' 'Dips & Salsa'\n",
      " 'Adult Incontinence' 'Water' 'Cereal, Granola, & Toaster Pastries' 'Wine'\n",
      " 'Pudding & Gelatin' 'Clothing' 'Carbonated Soft Drinks'\n",
      " 'Energy & Endurance' 'Beverages' 'Cheese' 'Kitchen & Dining'\n",
      " 'Energy Drinks' 'Packaged Vegetables' 'Household Cleaning Supplies'\n",
      " 'Business & Home Security'\n",
      " 'Hard Seltzers, Sodas, Waters, Lemonades & Teas' 'Beer' 'Fresh Seafood'\n",
      " 'Packaged Meals & Sides' 'Prepared Meals' 'Jewelry' 'Exercise & Fitness'\n",
      " 'Pasta & Noodles' 'Packaged Fruit & Applesauce' 'Fresh Fruits'\n",
      " 'Name Plates' 'Sauces & Marinades' 'Frozen Desserts' 'Spirits'\n",
      " 'Cooking & Baking' 'Athletics' 'Clothing Accessories' 'Plants'\n",
      " 'Musical Instruments' 'Cocktail Prep' 'Beverage Syrups'\n",
      " 'Frozen Pizza & Pizza Snacks' 'Nut Butters & Jam' 'Coffee'\n",
      " 'Fruit & Vegetable Juices' 'Pet Carriers, Crates & Accessories' 'Audio'\n",
      " 'Hardware' 'Fish Supplies' 'Makeup' 'Decor' 'Toys' 'À La Carte Item'\n",
      " 'Office Carts' 'Frozen Meat' 'Pet Grooming Supplies' 'Fresh Vegetables'\n",
      " 'Furniture' 'Tobacco Products' 'Soup & Broth' 'Dairy Alternatives'\n",
      " 'Vehicle Storage & Cargo' 'Packaged Seafood' 'Office & Chair Mats'\n",
      " 'Pickled Goods' 'Outdoor Recreation' 'Indoor Games' 'Arts & Crafts'\n",
      " 'Frozen Appetizers' 'Food Storage' 'Tea'\n",
      " 'Vehicle Maintenance, Care & Decor' 'Games'\n",
      " 'Arcade Equipment & Accessories' 'Baby Toys & Activity Equipment'\n",
      " 'Hard Ciders' 'Luggage Accessories' 'Lawn & Garden' 'Books' 'Condiments'\n",
      " 'Lighting' 'Ice' 'Presentation Supplies' 'Handbag, Wallet & Accessories'\n",
      " 'Emergency Preparedness' 'Music & Recordings' 'Party & Celebration'\n",
      " 'Shoes' 'Pool, Spa & Accessories' 'Baby & Toddler Feeding'\n",
      " 'Malt Beverages' 'Household Appliances' 'Shipping Supplies'\n",
      " 'Frozen Sides' 'Baby Transport']\n",
      "CATEGORY_3 ['Conductivity Gels & Lotions' 'Cheese Curls & Puffs'\n",
      " 'Hair Care Accessories' 'Toothpaste' 'Essential Oils'\n",
      " 'Vitamins & Herbal Supplements' \"Men's Deodorant & Antiperspirant\"\n",
      " 'Granola Bars' nan 'Skin Treatments' 'Hand & Body Lotions' 'Hazelnuts'\n",
      " 'Shower Caps' 'Hair Tools' 'Candy Variety Pack' 'Chocolate Candy'\n",
      " 'Oral Care Accessories' 'Hand Sanitizer Wipes' 'Shaving Gel & Cream'\n",
      " 'Crisps' 'Pies & Tarts Snack Cakes' 'Skin Care Masks & Peels'\n",
      " 'Lip Balms & Treatments' 'Anti-Aging Skin Care Kits' 'Shampoo'\n",
      " 'Ice Cream Sauces & Syrups' 'Reading Glasses' 'Popcorn' 'Dried Fruit'\n",
      " 'Sunscreen' 'Hair Styling Products' 'Almonds' 'Facial Cleansers'\n",
      " 'Confection Candy' 'Wheat Crackers' 'Hand Sanitizer' 'Potato Chips'\n",
      " 'Performance & Protein Bars' 'Jerky & Bites' 'Facial Pore Strips'\n",
      " 'Braces & Wraps' 'Body Wash' 'Body Powder' 'Bath & Body Gift Sets'\n",
      " 'Chestnuts' 'Denture Care' 'Brownie Snack Cakes' 'Bath Sponges & Loofahs'\n",
      " 'Snack Seeds' 'Foot Care Devices and Grooming Aids'\n",
      " 'Allergy & Sinus Medicines & Treatments' 'Facial Lotion & Moisturizer'\n",
      " 'Razors' 'Toothbrushes' 'Hot & Cold Compress' 'Floss'\n",
      " 'Sleeping & Snoring' 'Covered Nuts' 'Fruit & Nut Bars' 'Mints'\n",
      " 'Teeth Whitening' 'Fruit Snacks' 'Donut Snack Cakes' 'Bandages & Gauze'\n",
      " 'Insoles & Orthotics' 'Hair Color' 'Ear Plugs' 'Menstrual Care Underwear'\n",
      " 'Hair Treatments' 'Corn Chips' 'Pretzel Crisps' 'Eye Creams'\n",
      " 'Tattoo Care' 'Tortilla Chips' 'Cereal Bars & Breakfast Biscuits'\n",
      " 'Oral Pain Relief' 'Mixed Nuts' 'Medical Masks & Gloves'\n",
      " 'Liquid Hand Soap' 'Contact Lens Solution' 'Pistachios' 'Bath Additives'\n",
      " 'Hair Removal Cream' 'Conditioner' 'Hummus'\n",
      " 'Gender Neutral Deodorant & Antiperspirant'\n",
      " 'Topical & Muscular Medicines & Treatments' 'Menstrual Care Liners'\n",
      " 'Digestive Health Medicines & Treatments' 'Pork Skins' 'Eye Drops'\n",
      " 'Ranch Dip' 'Anti-Fungal Foot Care' 'Acne Treatments & Kits' 'Gum'\n",
      " 'Hair Removal Accessories' 'Bar Soap' 'Fruit Rolls & Twists'\n",
      " 'Rice Treats' 'Peanuts' 'Bath Brushes' 'Flavored Pretzels'\n",
      " 'Ointments & Liquids' 'Danishes & Puffs Snack Cakes'\n",
      " 'Adult Incontinence Underwear' 'Dried Vegetables' 'Body Oil'\n",
      " 'Callus Cushions & Paddings' 'After Shave' 'Cheese Crackers'\n",
      " 'Smoking Cessation' 'Sparkling Water' 'Menstrual Care Cups'\n",
      " 'Cough & Cold Medicines & Treatments' 'Traditional Pretzels'\n",
      " 'Facial Cleansing Kits' 'Adult Incontinence Liners' 'Bagel & Pita Chips'\n",
      " 'Mouthwash' 'Menstrual Care Treatments & Cleansers'\n",
      " 'Shampoo & Conditioner Combinations'\n",
      " 'Pain & Fever Medicines & Treatments' 'Breakfast Cereal'\n",
      " 'Dried Meat Sticks' 'Canned & Whipped Cream'\n",
      " \"Women's Deodorant & Antiperspirant\" 'Cashews' 'Dip Mixes' 'Salsa'\n",
      " 'Cakes & Truffles Snack Cakes' 'Other Crackers' 'Hair Loss Prevention'\n",
      " 'Ready-to-Eat Gelatin' 'Tampons' 'Shirts & Tops' 'Cola'\n",
      " 'Meal Replacement Bars' 'Adult Incontinence Furniture Pads'\n",
      " 'Adult Incontinence Bladder Supports' 'Menstrual Care Pads' 'Other Dips'\n",
      " 'Animal Crackers' 'Shampoo & Conditioner Co-Pack' 'Sandwich Crackers'\n",
      " 'Ear Drops' 'Thermometers & Accesories' 'Dry Shampoo'\n",
      " 'Adult Incontinence Pads' 'Other Nuts' 'Corn & Rice Cakes'\n",
      " 'Ready-to-Eat Pudding' 'Waxing & Strips' 'Chews & Gels'\n",
      " 'Covered Pretzels' 'Contraceptives' 'Asthma Treatments' 'First Aid Kits'\n",
      " 'Soda' 'Petroleum Jelly' 'Graham Crackers' 'Guacamole' 'Cotton Swabs'\n",
      " 'Whole Grain Chips' 'Lice Treatment' 'Saltine Crackers'\n",
      " 'Muffin Snack Cakes' 'Skin Toners & Astringents'\n",
      " 'Shredded & Grated Cheese' 'Activewear' 'Shots'\n",
      " 'Food & Beverage Carriers' 'French Onion Dip' 'Wart Removers'\n",
      " 'Skin Insect Repellent' 'Cheese Dip' 'Bean Dip' 'Butter Crackers'\n",
      " 'Ice Cream Cones' 'Sliced Cheese' 'Breath Strips & Sprays'\n",
      " 'Powdered Hand Soap' 'Sparkling Wines' 'Mushrooms' 'Jock Itch'\n",
      " 'Household Cleaning Products' 'Hard Seltzer & Still Water' 'Lager'\n",
      " 'Cheese Snacks' 'Filled Pretzels' 'Eyeglass Cleaning Kits'\n",
      " 'Cheese Blocks' 'Fresh Fish' 'Microwavable Sides' 'Prepared Snack Pack'\n",
      " 'Sleepwear & Loungewear' 'Red Wine' 'White Wine' 'Sweaters & Sweatshirts'\n",
      " 'Watches & Accessories' 'Vibration Exercise Machines'\n",
      " 'Microwavable Entrees' 'Club Soda' 'Contraceptive Cases'\n",
      " 'Prescription Lenses' 'Non-Alcoholic Beer' 'Rosé' 'Dry Pasta'\n",
      " 'Ready-to-Eat Dessert Cups' 'Kitchen Appliances'\n",
      " 'Prescription Medications' 'Packaged Pineapple' 'Fresh Grapes'\n",
      " 'Soy & Fish Sauce' 'Frozen Non-Dairy Dessert' 'Applesauce'\n",
      " 'Packaged Mixed Fruit & Cocktail' 'Packaged Pears' 'Fresh Citrus Fruits'\n",
      " 'Frozen Dairy Desserts' 'Vodka' 'Baking Ingredients' 'Gymnastics'\n",
      " 'Dessert Dips' 'Hats' 'Seeds & Bulbs' 'Packaged Peaches' 'Ale'\n",
      " 'Non-Alchoholic Cocktail Mixers' 'Underwear & Socks' 'Scarves & Shawls'\n",
      " 'Purified Water' 'Stovetop & Oven Entrees' 'Teriyaki Sauce'\n",
      " 'Frozen Pizza Rolls' 'Tableware' 'Jellies, Jams, & Preserves'\n",
      " 'Ready-To-Drink Coffee' 'Coconut Water' 'Granola' 'Bottoms'\n",
      " 'Audio Players & Recorders' 'Aquariums & Accessories' 'Lip Makeup'\n",
      " 'Stopwatches' 'Cream Cheese & Spreads' 'Pasta Sauce'\n",
      " 'Baby & Toddler Clothing' 'Outerwear' 'Soccer' 'Hardware Accessories'\n",
      " 'Peanut Butter' 'Grape Juice' 'Clocks' 'Cranberry Juice'\n",
      " 'Sparkling Fruit Juice' 'Fresh Shellfish' 'Play Vehicles'\n",
      " 'Snacks & Sides' 'AV Carts' 'Toy Gift Baskets' 'Barware' 'Frozen Seafood'\n",
      " 'Fresh Cauliflower' 'Fresh Peppers' 'Toaster Pastries' 'Yoga & Pilates'\n",
      " 'Broth, Bouillon, & Stock' 'Non-Dairy Cheese' 'Coffee Pods'\n",
      " 'Packaged Salmon' 'Sushi' 'Chair Mats' 'Packaged Tuna' 'Vegetable Medley'\n",
      " 'Pickles' 'Oatmeal & Hot Cereal' 'Dolls, Playsets & Toy Figures'\n",
      " 'Camping & Hiking' 'Bowling' 'Sugars & Sweeteners' 'Spices & Seasonings'\n",
      " 'Art & Crafting Materials' 'Fresh Cherries' 'Flameless Candles' 'Cereal'\n",
      " 'Frozen Other Appetizers' 'Food Storage Containers' 'Iced Teas'\n",
      " 'Vehicle Fluids' 'Prepared Cocktails' 'Cookware & Bakeware'\n",
      " 'Slushies & Icees' 'Clock Parts' 'Milk' 'Kitchen Tools & Utensils' 'Corn'\n",
      " 'Slot Machines' 'Throwing Darts' 'Prescription Glasses Frames'\n",
      " 'Baby Activity Toys' 'Weighted Clothing' 'Sunglasses' 'Outdoor Living'\n",
      " 'Fuel Containers & Tanks' 'Beans' 'Lemonade & Limeade' 'Tonic Water'\n",
      " 'Chair & Sofa Cushions' 'Seasonal & Holiday Decorations'\n",
      " 'Beer Variety Packs' 'Decorative Trays' 'Wind-Up Toys' 'Cocktail Sauces'\n",
      " 'Fresh Asparagus' 'Orange Juice' 'Flood & Spot Lights' 'Chalkboards'\n",
      " 'Hot Sauce' 'Emergency Tools & Kits' 'Snow Removal' 'Maternity Clothing'\n",
      " 'Oils & Sprays' 'Crumbled Cheese' 'Packaged Cherries' 'Fresh Melons'\n",
      " 'Tomato Juice' 'Sours & Fruit Beer' 'Carrots' 'Gift Giving' 'Potatoes'\n",
      " 'Baby Food Prep & Accessories' 'Decorative Plaques' 'Lemon & Lime Juice'\n",
      " 'Novelty Signs' 'Peas' 'Hard Sodas' 'Climate Control Appliances'\n",
      " 'Cycling' 'Non-Dairy Cream' 'Headwear & Accessories' 'Hoisin'\n",
      " 'Moving & Shipping Boxes' 'Peanut Butter Alternatives'\n",
      " 'Frozen French Fries' 'Baby Carriers']\n",
      "CATEGORY_4 [nan 'Hair Brushes & Combs' \"Women's Shaving Gel & Cream\" 'Lip Balms'\n",
      " 'Already Popped Popcorn' \"Men's Razors\" 'Snoring Aids'\n",
      " 'Popcorn Kernels & Popcorn Seasonings' 'Sleep Aids' 'Hair Straighteners'\n",
      " 'Medicated Lip Treatments'\n",
      " 'Nausea & Motion Sickness Medicines & Treatments' \"Women's Razors\"\n",
      " 'Flavored Sparkling Water' 'Immune Support'\n",
      " 'Constipation Relief Medicines & Treatments'\n",
      " 'Cold & Flu Medicines & Treatments'\n",
      " 'Anti Diarrheal Medicines & Treatments' 'Cough Drops & Lozenges'\n",
      " 'Water Pills' 'Microwave Popcorn'\n",
      " 'Cough & Chest Congestion Medicines & Treatments'\n",
      " 'Heartburn & Antacids Medicines & Treatments' 'Regular Cola' 'Diet Cola'\n",
      " 'Sore Throat Medicines & Treatments' 'Gas Relief Medicines & Treatments'\n",
      " 'Diet Soda' 'Vapors & Rubs' \"Men's Shaving Gel & Cream\" 'Skin Toners'\n",
      " 'Lactose Intolerance Medicines & Treatments' 'Water Bottles'\n",
      " 'Unflavored Sparkling Water' 'Hair Dryers' 'Orange Soda'\n",
      " 'Gender Neutral Razors' 'Ginger Ale' 'Natural Sliced Cheese'\n",
      " 'Sparkling Wine' 'Oven & Grill Cleaners' 'American Lager'\n",
      " 'Individually Packaged Cheese Snacks' 'Astringents' 'Imported Lager'\n",
      " 'Zero Sugar Cola' 'Lemon-Lime Soda' 'Microwavable Non-Potato Sides'\n",
      " 'Red Blend' 'Pinot Gris & Pinot Grigio' 'Pinot Noir'\n",
      " 'Pre-Cut Cheese Snacks' 'Rosé & Blends'\n",
      " 'Gender Neutral Shaving Gel & Cream' 'White Moscato' 'Refrigerators'\n",
      " 'Chardonnay' 'Sherbet' 'Syrah/Shiraz' 'Ice Cream'\n",
      " 'Pie Crust & Pie Filling' 'Drink Sleeves' 'Root Beer' 'White Zinfandel'\n",
      " 'Stout Ale' 'Margarita Mix' 'Prosecco' 'Underwear' 'Riesling'\n",
      " 'Purified Unflavored Water' 'Stovetop Macaroni & Cheese' 'Other Whites'\n",
      " 'Other Non-Alchoholic Cocktail Mixers' 'Drinkware' 'Cabernet Sauvignon'\n",
      " 'Other Red Wines' 'Lip Gloss' 'Cheese Spreads' 'Red Pasta Sauce'\n",
      " 'Baby & Toddler Tops' 'Tops' 'Purified Flavored Water'\n",
      " 'Frozen Dairy Novelties' 'Tool Storage & Organization' 'Wall Clocks'\n",
      " 'Grape Soda' 'Bottle Caps' 'Frozen Fish Fillets' 'Socks' 'White Blend'\n",
      " 'Yoga & Pilates Mats' 'Coolers' 'Merlot' 'Specialty & Cream Sodas'\n",
      " 'Frozen Shellfish' 'Corn Syrup' 'White Merlot' 'Breadcrumbs & Coatings'\n",
      " 'Craft Paint, Ink & Glaze' 'Sauvignon Blanc'\n",
      " 'Baby & Toddler Socks & Tights' 'Meal Kits' 'Zinfandel' 'Champagne'\n",
      " 'Cookware' 'Coconut Milk' 'Pancake & Waffle Syrup' 'Kitchen Organizers'\n",
      " 'Textiles' 'Ramen & Instant Noodles' 'Honey' 'Seasoning Blends'\n",
      " 'Holiday Ornaments' 'Salt & Pepper Shakers' 'Malbec'\n",
      " 'Garlic & Onion Spices & Seasonings' 'Chili Sauce'\n",
      " 'Ice Scrapers & Snow Brushes' 'Other Cooking & Baking Oils' 'Wasabi'\n",
      " 'Dinnerware' 'Regular Soda' 'Beverage Warmers' 'Humidifiers'\n",
      " 'Replacement Drink Lids' 'Baby & Toddler Outfits' 'Variety Pack Sodas'\n",
      " 'Spices']\n"
     ]
    },
    {
     "name": "stdout",
     "output_type": "stream",
     "text": [
      "MANUFACTURER [nan 'PLACEHOLDER MANUFACTURER' 'COLGATE-PALMOLIVE' ... 'VIDETTE INC'\n",
      " 'SCRUB-IT' 'OUTDOOR PRODUCT INNOVATIONS, INC.']\n",
      "BRAND [nan 'ELECSOP' 'COLGATE' ... 'SHULEMIN' 'RHINO BLINDS' 'GATEWAY']\n"
     ]
    }
   ],
   "source": [
    "#understanding possible value for categorical data columns\n",
    "for feature in prod_data.columns:\n",
    "    if prod_data[feature].dtype==object:\n",
    "        print(feature,  prod_data[feature].unique())"
   ]
  },
  {
   "cell_type": "code",
   "execution_count": 31,
   "id": "4ce5dc91",
   "metadata": {},
   "outputs": [
    {
     "name": "stdout",
     "output_type": "stream",
     "text": [
      "['Health & Wellness' 'Snacks' 'Beverages' 'Pantry' 'Alcohol'\n",
      " 'Apparel & Accessories' 'Restaurant' 'Needs Review' 'Dairy'\n",
      " 'Home & Garden' nan 'Household Supplies' 'Meat & Seafood' 'Deli & Bakery'\n",
      " 'Sporting Goods' 'Produce' 'Office & School' 'Frozen'\n",
      " 'Arts & Entertainment' 'Animals & Pet Supplies' 'Electronics' 'Beauty'\n",
      " 'Toys & Games' 'Mature' 'Vehicles & Parts' 'Baby & Toddler'\n",
      " 'Luggage & Bags' 'Media']\n",
      "------------------------------------------------------------------------------\n",
      "['Sexual Health' 'Puffed Snacks' 'Hair Care' 'Oral Care'\n",
      " 'Medicines & Treatments' 'Deodorant & Antiperspirant' 'Snack Bars' nan\n",
      " 'Bath & Body' 'Nuts & Seeds' 'Candy' 'Cookies' 'Variety Snack Packs'\n",
      " 'Hair Removal' 'Medical Supplies & Equipment' 'Chips' 'Snack Cakes'\n",
      " 'Skin Care' 'Dessert Toppings' 'Eye Care' 'Fruit & Vegetable Snacks'\n",
      " 'Snack Mixes' 'Crackers' 'Jerky & Dried Meat'\n",
      " 'Topical Muscle & Joint Relief Treatments' 'Foot Care' 'First Aid'\n",
      " 'Ear Care' 'Menstrual Care' 'Pretzels' 'Trail Mix' 'Dips & Salsa'\n",
      " 'Adult Incontinence' 'Water' 'Cereal, Granola, & Toaster Pastries' 'Wine'\n",
      " 'Pudding & Gelatin' 'Clothing' 'Carbonated Soft Drinks'\n",
      " 'Energy & Endurance' 'Beverages' 'Cheese' 'Kitchen & Dining'\n",
      " 'Energy Drinks' 'Packaged Vegetables' 'Household Cleaning Supplies'\n",
      " 'Business & Home Security'\n",
      " 'Hard Seltzers, Sodas, Waters, Lemonades & Teas' 'Beer' 'Fresh Seafood'\n",
      " 'Packaged Meals & Sides' 'Prepared Meals' 'Jewelry' 'Exercise & Fitness'\n",
      " 'Pasta & Noodles' 'Packaged Fruit & Applesauce' 'Fresh Fruits'\n",
      " 'Name Plates' 'Sauces & Marinades' 'Frozen Desserts' 'Spirits'\n",
      " 'Cooking & Baking' 'Athletics' 'Clothing Accessories' 'Plants'\n",
      " 'Musical Instruments' 'Cocktail Prep' 'Beverage Syrups'\n",
      " 'Frozen Pizza & Pizza Snacks' 'Nut Butters & Jam' 'Coffee'\n",
      " 'Fruit & Vegetable Juices' 'Pet Carriers, Crates & Accessories' 'Audio'\n",
      " 'Hardware' 'Fish Supplies' 'Makeup' 'Decor' 'Toys' 'À La Carte Item'\n",
      " 'Office Carts' 'Frozen Meat' 'Pet Grooming Supplies' 'Fresh Vegetables'\n",
      " 'Furniture' 'Tobacco Products' 'Soup & Broth' 'Dairy Alternatives'\n",
      " 'Vehicle Storage & Cargo' 'Packaged Seafood' 'Office & Chair Mats'\n",
      " 'Pickled Goods' 'Outdoor Recreation' 'Indoor Games' 'Arts & Crafts'\n",
      " 'Frozen Appetizers' 'Food Storage' 'Tea'\n",
      " 'Vehicle Maintenance, Care & Decor' 'Games'\n",
      " 'Arcade Equipment & Accessories' 'Baby Toys & Activity Equipment'\n",
      " 'Hard Ciders' 'Luggage Accessories' 'Lawn & Garden' 'Books' 'Condiments'\n",
      " 'Lighting' 'Ice' 'Presentation Supplies' 'Handbag, Wallet & Accessories'\n",
      " 'Emergency Preparedness' 'Music & Recordings' 'Party & Celebration'\n",
      " 'Shoes' 'Pool, Spa & Accessories' 'Baby & Toddler Feeding'\n",
      " 'Malt Beverages' 'Household Appliances' 'Shipping Supplies'\n",
      " 'Frozen Sides' 'Baby Transport']\n"
     ]
    }
   ],
   "source": [
    "#checking unique values in CATEGORY_1 and CATEGORY_2 columns\n",
    "print(prod_data['CATEGORY_1'].unique())\n",
    "print('------------------------------------------------------------------------------')\n",
    "print(prod_data['CATEGORY_2'].unique())"
   ]
  },
  {
   "cell_type": "markdown",
   "id": "cf96b05b",
   "metadata": {},
   "source": [
    "### Visualizing distribution of CATEGORY_1 "
   ]
  },
  {
   "cell_type": "code",
   "execution_count": 32,
   "id": "3a9b4aee",
   "metadata": {},
   "outputs": [
    {
     "data": {
      "text/plain": [
       "<Axes: xlabel='CATEGORY_1'>"
      ]
     },
     "execution_count": 32,
     "metadata": {},
     "output_type": "execute_result"
    },
    {
     "data": {
      "image/png": "[encoded data removed]",
      "text/plain": [
       "<Figure size 432x288 with 1 Axes>"
      ]
     },
     "metadata": {
      "needs_background": "light"
     },
     "output_type": "display_data"
    }
   ],
   "source": [
    "# Visualizing distribution of CATEGORY_1\n",
    "prod_data['CATEGORY_1'].value_counts().plot(kind='bar')"
   ]
  },
  {
   "cell_type": "markdown",
   "id": "d8e20660",
   "metadata": {},
   "source": [
    "### Bar Plot of Missing Values "
   ]
  },
  {
   "cell_type": "code",
   "execution_count": 33,
   "id": "a3cf95d6",
   "metadata": {},
   "outputs": [
    {
     "data": {
      "image/png": "[encoded data removed]",
      "text/plain": [
       "<Figure size 432x288 with 1 Axes>"
      ]
     },
     "metadata": {
      "needs_background": "light"
     },
     "output_type": "display_data"
    }
   ],
   "source": [
    "prod_data.isnull().sum().plot(kind='bar', color='salmon')\n",
    "plt.title('Missing Data by Column')\n",
    "plt.ylabel('Number of Missing Values')\n",
    "plt.show()\n"
   ]
  },
  {
   "cell_type": "markdown",
   "id": "84723502",
   "metadata": {},
   "source": [
    "Observation:\n",
    "1. CATEGORY_1 Contains some missing values (nan), which is concerning because this is the top-level categorization of the product. CATEGORY_2 to CATEGORY_4 contain more missing values suggesting that the data becomes more incomplete as you do down the hierarchy.\n",
    "\n",
    "2. MANUFACTURER and BRAND: These columns also have missing values (nan), which could hinder analyses involving specific brands or manufacturers. \n",
    "\n",
    "3. There is a significant imbalance in the distribution of categories or data points. It would be important to investigate why most of categories have very low counts of data entries.\n",
    "\n"
   ]
  },
  {
   "cell_type": "code",
   "execution_count": 34,
   "id": "fb0b23fb",
   "metadata": {},
   "outputs": [],
   "source": [
    "#dropping rows where barcode is empty or null\n",
    "prod_data = prod_data[prod_data['BARCODE'].notna() & (prod_data['BARCODE'] != '')]\n",
    "# Save the modified prod_data dataset\n",
    "prod_data.to_csv(\"prod_data_cleaned.csv\", index=False)\n"
   ]
  },
  {
   "cell_type": "code",
   "execution_count": null,
   "id": "65e3a6c4",
   "metadata": {},
   "outputs": [],
   "source": []
  }
 ],
 "metadata": {
  "kernelspec": {
   "display_name": "Python 3",
   "language": "python",
   "name": "python3"
  },
  "language_info": {
   "codemirror_mode": {
    "name": "ipython",
    "version": 3
   },
   "file_extension": ".py",
   "mimetype": "text/x-python",
   "name": "python",
   "nbconvert_exporter": "python",
   "pygments_lexer": "ipython3",
   "version": "3.8.8"
  }
 },
 "nbformat": 4,
 "nbformat_minor": 5
}
